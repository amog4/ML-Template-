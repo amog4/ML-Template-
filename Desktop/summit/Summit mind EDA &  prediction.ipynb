{
 "cells": [
  {
   "cell_type": "raw",
   "metadata": {},
   "source": []
  },
  {
   "cell_type": "code",
   "execution_count": 241,
   "metadata": {},
   "outputs": [],
   "source": [
    "# Importing the required Libraries\n",
    "import numpy as np\n",
    "import pandas as pd\n",
    "import matplotlib.pyplot as plt\n",
    "import seaborn as sns\n",
    "import plotly \n",
    "import scipy as sp\n",
    "import json\n",
    "from pandas.io.json import json_normalize\n",
    "from sklearn.preprocessing import LabelEncoder\n",
    "from sklearn.model_selection import train_test_split"
   ]
  },
  {
   "cell_type": "code",
   "execution_count": 2,
   "metadata": {},
   "outputs": [],
   "source": [
    "# Load Data"
   ]
  },
  {
   "cell_type": "code",
   "execution_count": 3,
   "metadata": {},
   "outputs": [
    {
     "name": "stderr",
     "output_type": "stream",
     "text": [
      "/home/csai/anaconda3/lib/python3.6/site-packages/pandas/core/frame.py:6692: FutureWarning:\n",
      "\n",
      "Sorting because non-concatenation axis is not aligned. A future version\n",
      "of pandas will change to not sort by default.\n",
      "\n",
      "To accept the future behavior, pass 'sort=False'.\n",
      "\n",
      "To retain the current behavior and silence the warning, pass 'sort=True'.\n",
      "\n",
      "\n"
     ]
    }
   ],
   "source": [
    "with open('/home/csai/Downloads/customersdata.json') as json_data:\n",
    "    \n",
    "    orders = pd.DataFrame({'orderId':[],\n",
    "             'orderAmount':[],\n",
    "             'orderState':[],\n",
    "             'orderShippingAddress':[],\n",
    "             })\n",
    "    \n",
    "    customer = {'customerEmail':[]\n",
    "                ,'customerPhone':[], \n",
    "                'customerDevice':[],\n",
    "               'customerIPAddress':[],\n",
    "               'customerBillingAddress':[],\n",
    "               'fraudulent':[]}\n",
    "    \n",
    "    \n",
    "    transactions_ = pd.DataFrame({'transactionId':[]\n",
    "                ,'orderId':[], \n",
    "                'paymentMethodId':[],\n",
    "               'transactionAmount':[],\n",
    "               'transactionFailed':[],\n",
    "               'customer_id':[]})\n",
    "    \n",
    "    \n",
    "    \n",
    "    paymentMethods=  pd.DataFrame({'paymentMethodId': [],\n",
    "        'paymentMethodRegistrationFailure': [],\n",
    "        'paymentMethodType': [],\n",
    "        'paymentMethodProvider': [],\n",
    "        'paymentMethodIssuer': []})\n",
    "    \n",
    "    for data in json_data:\n",
    "        \n",
    "        data_ = json.loads(data)\n",
    "        \n",
    "        orders = orders.append(json_normalize(data_['orders']))\n",
    "        customer['customerEmail'].extend(json_normalize(data_['customer'])['customerEmail'].values)\n",
    "        customer['customerPhone'].extend(json_normalize(data_['customer'])['customerPhone'].values)\n",
    "        customer['customerDevice'].extend(json_normalize(data_['customer'])['customerDevice'].values)\n",
    "        customer['customerIPAddress'].extend(json_normalize(data_['customer'])['customerIPAddress'].values)\n",
    "        customer['customerBillingAddress'].extend(json_normalize(data_['customer'])['customerBillingAddress'].values)\n",
    "        customer['fraudulent'].append(data_.get('fraudulent'))\n",
    "        \n",
    "        paymentMethods = paymentMethods.append(json_normalize(data_['paymentMethods']))\n",
    "        transactions_ = transactions_.append(json_normalize(data_['transactions']))\n",
    "        #transactions_['customer_id'].update(json_normalize(data_['customer'])['customerPhone'])\n",
    "        transactions_['customer_id'].fillna(json_normalize(data_['customer'])['customerPhone'],inplace=True)\n",
    "        transactions_.fillna(method='ffill',inplace=True)\n",
    "        #transactions['paymentMethodId'].extend(json_normalize(data_['paymentMethods'])['paymentMethodId'])\n",
    "        \n",
    "        #transactions['customer_id'].extend(json_normalize(data_['customer'])['customerPhone'])\n",
    "customer = pd.DataFrame(customer)"
   ]
  },
  {
   "cell_type": "code",
   "execution_count": 4,
   "metadata": {},
   "outputs": [],
   "source": [
    "data_trans = transactions_.merge(customer,left_on ='customer_id',right_on ='customerPhone')\n",
    "data_order_trans = data_trans.merge(orders,on='orderId')\n",
    "data= data_order_trans.merge(paymentMethods,on='paymentMethodId')"
   ]
  },
  {
   "cell_type": "code",
   "execution_count": 5,
   "metadata": {
    "scrolled": false
   },
   "outputs": [
    {
     "data": {
      "text/html": [
       "<div>\n",
       "<style scoped>\n",
       "    .dataframe tbody tr th:only-of-type {\n",
       "        vertical-align: middle;\n",
       "    }\n",
       "\n",
       "    .dataframe tbody tr th {\n",
       "        vertical-align: top;\n",
       "    }\n",
       "\n",
       "    .dataframe thead th {\n",
       "        text-align: right;\n",
       "    }\n",
       "</style>\n",
       "<table border=\"1\" class=\"dataframe\">\n",
       "  <thead>\n",
       "    <tr style=\"text-align: right;\">\n",
       "      <th></th>\n",
       "      <th>customer_id</th>\n",
       "      <th>orderId</th>\n",
       "      <th>paymentMethodId</th>\n",
       "      <th>transactionAmount</th>\n",
       "      <th>transactionFailed</th>\n",
       "      <th>transactionId</th>\n",
       "      <th>customerEmail</th>\n",
       "      <th>customerPhone</th>\n",
       "      <th>customerDevice</th>\n",
       "      <th>customerIPAddress</th>\n",
       "      <th>customerBillingAddress</th>\n",
       "      <th>fraudulent</th>\n",
       "      <th>orderAmount</th>\n",
       "      <th>orderShippingAddress</th>\n",
       "      <th>orderState</th>\n",
       "      <th>paymentMethodIssuer</th>\n",
       "      <th>paymentMethodProvider</th>\n",
       "      <th>paymentMethodRegistrationFailure</th>\n",
       "      <th>paymentMethodType</th>\n",
       "    </tr>\n",
       "  </thead>\n",
       "  <tbody>\n",
       "    <tr>\n",
       "      <th>0</th>\n",
       "      <td>400-108-5415</td>\n",
       "      <td>vjbdvd</td>\n",
       "      <td>wt07xm68b</td>\n",
       "      <td>18.0</td>\n",
       "      <td>0.0</td>\n",
       "      <td>a9lcj51r</td>\n",
       "      <td>josephhoward@yahoo.com</td>\n",
       "      <td>400-108-5415</td>\n",
       "      <td>yyeiaxpltf82440jnb3v</td>\n",
       "      <td>8.129.104.40</td>\n",
       "      <td>5493 Jones Islands\\nBrownside, CA 51896</td>\n",
       "      <td>False</td>\n",
       "      <td>18.0</td>\n",
       "      <td>5493 Jones Islands\\nBrownside, CA 51896</td>\n",
       "      <td>pending</td>\n",
       "      <td>Citizens First Banks</td>\n",
       "      <td>JCB 16 digit</td>\n",
       "      <td>1.0</td>\n",
       "      <td>card</td>\n",
       "    </tr>\n",
       "    <tr>\n",
       "      <th>1</th>\n",
       "      <td>400-108-5415</td>\n",
       "      <td>yp6x27</td>\n",
       "      <td>wt07xm68b</td>\n",
       "      <td>26.0</td>\n",
       "      <td>0.0</td>\n",
       "      <td>y4wcv03i</td>\n",
       "      <td>josephhoward@yahoo.com</td>\n",
       "      <td>400-108-5415</td>\n",
       "      <td>yyeiaxpltf82440jnb3v</td>\n",
       "      <td>8.129.104.40</td>\n",
       "      <td>5493 Jones Islands\\nBrownside, CA 51896</td>\n",
       "      <td>False</td>\n",
       "      <td>26.0</td>\n",
       "      <td>5493 Jones Islands\\nBrownside, CA 51896</td>\n",
       "      <td>fulfilled</td>\n",
       "      <td>Citizens First Banks</td>\n",
       "      <td>JCB 16 digit</td>\n",
       "      <td>1.0</td>\n",
       "      <td>card</td>\n",
       "    </tr>\n",
       "    <tr>\n",
       "      <th>2</th>\n",
       "      <td>1-788-091-7546</td>\n",
       "      <td>nlghpa</td>\n",
       "      <td>41ug157xz</td>\n",
       "      <td>45.0</td>\n",
       "      <td>0.0</td>\n",
       "      <td>5mi94sfw</td>\n",
       "      <td>evansjeffery@yahoo.com</td>\n",
       "      <td>1-788-091-7546</td>\n",
       "      <td>r0jpm7xaeqqa3kr6mzum</td>\n",
       "      <td>219.173.211.202</td>\n",
       "      <td>356 Elizabeth Inlet Suite 120\\nPort Joshuabury...</td>\n",
       "      <td>True</td>\n",
       "      <td>45.0</td>\n",
       "      <td>898 Henry Ports\\nNew Keithview, CA 95893-2497</td>\n",
       "      <td>fulfilled</td>\n",
       "      <td>Bastion Banks</td>\n",
       "      <td>American Express</td>\n",
       "      <td>0.0</td>\n",
       "      <td>bitcoin</td>\n",
       "    </tr>\n",
       "    <tr>\n",
       "      <th>3</th>\n",
       "      <td>1-788-091-7546</td>\n",
       "      <td>uw0eeb</td>\n",
       "      <td>41ug157xz</td>\n",
       "      <td>23.0</td>\n",
       "      <td>0.0</td>\n",
       "      <td>br8ba1nu</td>\n",
       "      <td>evansjeffery@yahoo.com</td>\n",
       "      <td>1-788-091-7546</td>\n",
       "      <td>r0jpm7xaeqqa3kr6mzum</td>\n",
       "      <td>219.173.211.202</td>\n",
       "      <td>356 Elizabeth Inlet Suite 120\\nPort Joshuabury...</td>\n",
       "      <td>True</td>\n",
       "      <td>23.0</td>\n",
       "      <td>356 Elizabeth Inlet Suite 120\\nPort Joshuabury...</td>\n",
       "      <td>fulfilled</td>\n",
       "      <td>Bastion Banks</td>\n",
       "      <td>American Express</td>\n",
       "      <td>0.0</td>\n",
       "      <td>bitcoin</td>\n",
       "    </tr>\n",
       "    <tr>\n",
       "      <th>4</th>\n",
       "      <td>1-788-091-7546</td>\n",
       "      <td>bn44oh</td>\n",
       "      <td>y3xp697jx</td>\n",
       "      <td>43.0</td>\n",
       "      <td>1.0</td>\n",
       "      <td>a33145ss</td>\n",
       "      <td>evansjeffery@yahoo.com</td>\n",
       "      <td>1-788-091-7546</td>\n",
       "      <td>r0jpm7xaeqqa3kr6mzum</td>\n",
       "      <td>219.173.211.202</td>\n",
       "      <td>356 Elizabeth Inlet Suite 120\\nPort Joshuabury...</td>\n",
       "      <td>True</td>\n",
       "      <td>43.0</td>\n",
       "      <td>5093 Bryan Forks\\nJoshuaton, FM 01565-9801</td>\n",
       "      <td>fulfilled</td>\n",
       "      <td>Solace Banks</td>\n",
       "      <td>VISA 16 digit</td>\n",
       "      <td>1.0</td>\n",
       "      <td>bitcoin</td>\n",
       "    </tr>\n",
       "  </tbody>\n",
       "</table>\n",
       "</div>"
      ],
      "text/plain": [
       "      customer_id orderId paymentMethodId  transactionAmount  \\\n",
       "0    400-108-5415  vjbdvd       wt07xm68b               18.0   \n",
       "1    400-108-5415  yp6x27       wt07xm68b               26.0   \n",
       "2  1-788-091-7546  nlghpa       41ug157xz               45.0   \n",
       "3  1-788-091-7546  uw0eeb       41ug157xz               23.0   \n",
       "4  1-788-091-7546  bn44oh       y3xp697jx               43.0   \n",
       "\n",
       "   transactionFailed transactionId           customerEmail   customerPhone  \\\n",
       "0                0.0      a9lcj51r  josephhoward@yahoo.com    400-108-5415   \n",
       "1                0.0      y4wcv03i  josephhoward@yahoo.com    400-108-5415   \n",
       "2                0.0      5mi94sfw  evansjeffery@yahoo.com  1-788-091-7546   \n",
       "3                0.0      br8ba1nu  evansjeffery@yahoo.com  1-788-091-7546   \n",
       "4                1.0      a33145ss  evansjeffery@yahoo.com  1-788-091-7546   \n",
       "\n",
       "         customerDevice customerIPAddress  \\\n",
       "0  yyeiaxpltf82440jnb3v      8.129.104.40   \n",
       "1  yyeiaxpltf82440jnb3v      8.129.104.40   \n",
       "2  r0jpm7xaeqqa3kr6mzum   219.173.211.202   \n",
       "3  r0jpm7xaeqqa3kr6mzum   219.173.211.202   \n",
       "4  r0jpm7xaeqqa3kr6mzum   219.173.211.202   \n",
       "\n",
       "                              customerBillingAddress  fraudulent  orderAmount  \\\n",
       "0            5493 Jones Islands\\nBrownside, CA 51896       False         18.0   \n",
       "1            5493 Jones Islands\\nBrownside, CA 51896       False         26.0   \n",
       "2  356 Elizabeth Inlet Suite 120\\nPort Joshuabury...        True         45.0   \n",
       "3  356 Elizabeth Inlet Suite 120\\nPort Joshuabury...        True         23.0   \n",
       "4  356 Elizabeth Inlet Suite 120\\nPort Joshuabury...        True         43.0   \n",
       "\n",
       "                                orderShippingAddress orderState  \\\n",
       "0            5493 Jones Islands\\nBrownside, CA 51896    pending   \n",
       "1            5493 Jones Islands\\nBrownside, CA 51896  fulfilled   \n",
       "2      898 Henry Ports\\nNew Keithview, CA 95893-2497  fulfilled   \n",
       "3  356 Elizabeth Inlet Suite 120\\nPort Joshuabury...  fulfilled   \n",
       "4         5093 Bryan Forks\\nJoshuaton, FM 01565-9801  fulfilled   \n",
       "\n",
       "    paymentMethodIssuer paymentMethodProvider  \\\n",
       "0  Citizens First Banks          JCB 16 digit   \n",
       "1  Citizens First Banks          JCB 16 digit   \n",
       "2         Bastion Banks      American Express   \n",
       "3         Bastion Banks      American Express   \n",
       "4          Solace Banks         VISA 16 digit   \n",
       "\n",
       "   paymentMethodRegistrationFailure paymentMethodType  \n",
       "0                               1.0              card  \n",
       "1                               1.0              card  \n",
       "2                               0.0           bitcoin  \n",
       "3                               0.0           bitcoin  \n",
       "4                               1.0           bitcoin  "
      ]
     },
     "execution_count": 5,
     "metadata": {},
     "output_type": "execute_result"
    }
   ],
   "source": [
    "data.head()"
   ]
  },
  {
   "cell_type": "code",
   "execution_count": 23,
   "metadata": {},
   "outputs": [
    {
     "data": {
      "text/plain": [
       "(623, 19)"
      ]
     },
     "execution_count": 23,
     "metadata": {},
     "output_type": "execute_result"
    }
   ],
   "source": [
    "# Shape of the data\n",
    "data.shape"
   ]
  },
  {
   "cell_type": "code",
   "execution_count": 24,
   "metadata": {},
   "outputs": [],
   "source": [
    "# there are 19 columns and 623 rows"
   ]
  },
  {
   "cell_type": "code",
   "execution_count": 6,
   "metadata": {},
   "outputs": [
    {
     "data": {
      "text/plain": [
       "customer_id                         0\n",
       "orderId                             0\n",
       "paymentMethodId                     0\n",
       "transactionAmount                   0\n",
       "transactionFailed                   0\n",
       "transactionId                       0\n",
       "customerEmail                       0\n",
       "customerPhone                       0\n",
       "customerDevice                      0\n",
       "customerIPAddress                   0\n",
       "customerBillingAddress              0\n",
       "fraudulent                          0\n",
       "orderAmount                         0\n",
       "orderShippingAddress                0\n",
       "orderState                          0\n",
       "paymentMethodIssuer                 0\n",
       "paymentMethodProvider               0\n",
       "paymentMethodRegistrationFailure    0\n",
       "paymentMethodType                   0\n",
       "dtype: int64"
      ]
     },
     "execution_count": 6,
     "metadata": {},
     "output_type": "execute_result"
    }
   ],
   "source": [
    "# missing values\n",
    "data.isnull().sum()"
   ]
  },
  {
   "cell_type": "code",
   "execution_count": 29,
   "metadata": {},
   "outputs": [],
   "source": [
    "# There were missing values during the time of loading but i have nt considered them "
   ]
  },
  {
   "cell_type": "code",
   "execution_count": 6,
   "metadata": {},
   "outputs": [],
   "source": [
    "# Removed Pending Status \n",
    "data_ = data[data['orderState'] != 'pending']"
   ]
  },
  {
   "cell_type": "code",
   "execution_count": 7,
   "metadata": {},
   "outputs": [],
   "source": [
    "# Statistical analysis"
   ]
  },
  {
   "cell_type": "code",
   "execution_count": 215,
   "metadata": {},
   "outputs": [],
   "source": [
    "fraud_ = []\n",
    "fraud__ =[]\n",
    "for fraud in data['fraudulent']:\n",
    "    if fraud is True:\n",
    "        fraud_.append(1)\n",
    "        fraud__.append('yes')\n",
    "    else:\n",
    "        fraud_.append(0)\n",
    "        fraud__.append('no')\n",
    "        \n",
    "data['fraud'] = fraud_\n",
    "data['fraud_'] = fraud__"
   ]
  },
  {
   "cell_type": "code",
   "execution_count": 138,
   "metadata": {
    "scrolled": true
   },
   "outputs": [
    {
     "data": {
      "text/html": [
       "<div>\n",
       "<style scoped>\n",
       "    .dataframe tbody tr th:only-of-type {\n",
       "        vertical-align: middle;\n",
       "    }\n",
       "\n",
       "    .dataframe tbody tr th {\n",
       "        vertical-align: top;\n",
       "    }\n",
       "\n",
       "    .dataframe thead th {\n",
       "        text-align: right;\n",
       "    }\n",
       "</style>\n",
       "<table border=\"1\" class=\"dataframe\">\n",
       "  <thead>\n",
       "    <tr style=\"text-align: right;\">\n",
       "      <th></th>\n",
       "      <th>transactionAmount</th>\n",
       "      <th>transactionFailed</th>\n",
       "      <th>fraud</th>\n",
       "    </tr>\n",
       "  </thead>\n",
       "  <tbody>\n",
       "    <tr>\n",
       "      <th>count</th>\n",
       "      <td>623.000000</td>\n",
       "      <td>623.000000</td>\n",
       "      <td>623.000000</td>\n",
       "    </tr>\n",
       "    <tr>\n",
       "      <th>mean</th>\n",
       "      <td>34.598716</td>\n",
       "      <td>0.269663</td>\n",
       "      <td>0.412520</td>\n",
       "    </tr>\n",
       "    <tr>\n",
       "      <th>std</th>\n",
       "      <td>20.360247</td>\n",
       "      <td>0.444141</td>\n",
       "      <td>0.492683</td>\n",
       "    </tr>\n",
       "    <tr>\n",
       "      <th>min</th>\n",
       "      <td>10.000000</td>\n",
       "      <td>0.000000</td>\n",
       "      <td>0.000000</td>\n",
       "    </tr>\n",
       "    <tr>\n",
       "      <th>25%</th>\n",
       "      <td>21.000000</td>\n",
       "      <td>0.000000</td>\n",
       "      <td>0.000000</td>\n",
       "    </tr>\n",
       "    <tr>\n",
       "      <th>50%</th>\n",
       "      <td>34.000000</td>\n",
       "      <td>0.000000</td>\n",
       "      <td>0.000000</td>\n",
       "    </tr>\n",
       "    <tr>\n",
       "      <th>75%</th>\n",
       "      <td>45.000000</td>\n",
       "      <td>1.000000</td>\n",
       "      <td>1.000000</td>\n",
       "    </tr>\n",
       "    <tr>\n",
       "      <th>max</th>\n",
       "      <td>353.000000</td>\n",
       "      <td>1.000000</td>\n",
       "      <td>1.000000</td>\n",
       "    </tr>\n",
       "  </tbody>\n",
       "</table>\n",
       "</div>"
      ],
      "text/plain": [
       "       transactionAmount  transactionFailed       fraud\n",
       "count         623.000000         623.000000  623.000000\n",
       "mean           34.598716           0.269663    0.412520\n",
       "std            20.360247           0.444141    0.492683\n",
       "min            10.000000           0.000000    0.000000\n",
       "25%            21.000000           0.000000    0.000000\n",
       "50%            34.000000           0.000000    0.000000\n",
       "75%            45.000000           1.000000    1.000000\n",
       "max           353.000000           1.000000    1.000000"
      ]
     },
     "execution_count": 138,
     "metadata": {},
     "output_type": "execute_result"
    }
   ],
   "source": [
    "data[['transactionAmount',\n",
    "       'transactionFailed','fraud']].describe()"
   ]
  },
  {
   "cell_type": "code",
   "execution_count": 139,
   "metadata": {},
   "outputs": [],
   "source": [
    "# from the above we can see that transaction amount ranges from 10 to 353 "
   ]
  },
  {
   "cell_type": "code",
   "execution_count": 140,
   "metadata": {},
   "outputs": [],
   "source": [
    "# we will look at the distribution by histogram and we can see that amount is right skewed and very few large amounts"
   ]
  },
  {
   "cell_type": "code",
   "execution_count": 141,
   "metadata": {},
   "outputs": [
    {
     "data": {
      "text/plain": [
       "<matplotlib.axes._subplots.AxesSubplot at 0x7f01231685c0>"
      ]
     },
     "execution_count": 141,
     "metadata": {},
     "output_type": "execute_result"
    },
    {
     "data": {
      "image/png": "[encoded data removed]",
      "text/plain": [
       "<Figure size 432x288 with 1 Axes>"
      ]
     },
     "metadata": {},
     "output_type": "display_data"
    }
   ],
   "source": [
    "sns.distplot(a = data['transactionAmount'],bins=100)"
   ]
  },
  {
   "cell_type": "code",
   "execution_count": 142,
   "metadata": {},
   "outputs": [
    {
     "data": {
      "text/plain": [
       "Text(0.5, 1.0, 'Fraud Trnx distribution in dataset')"
      ]
     },
     "execution_count": 142,
     "metadata": {},
     "output_type": "execute_result"
    },
    {
     "data": {
      "image/png": "[encoded data removed]",
      "text/plain": [
       "<Figure size 432x288 with 1 Axes>"
      ]
     },
     "metadata": {},
     "output_type": "display_data"
    }
   ],
   "source": [
    "# total fraud \n",
    "\n",
    "data['fraud'].value_counts().reset_index()\n",
    "sns.countplot(data['fraud'])\n",
    "plt.title('Fraud Trnx distribution in dataset')"
   ]
  },
  {
   "cell_type": "code",
   "execution_count": 143,
   "metadata": {},
   "outputs": [
    {
     "data": {
      "text/plain": [
       "Text(0.5, 1.0, 'paymentMethodIssuer')"
      ]
     },
     "execution_count": 143,
     "metadata": {},
     "output_type": "execute_result"
    },
    {
     "data": {
      "image/png": "[encoded data removed]",
      "text/plain": [
       "<Figure size 432x288 with 1 Axes>"
      ]
     },
     "metadata": {},
     "output_type": "display_data"
    }
   ],
   "source": [
    "sns.countplot(y=data['paymentMethodIssuer'],order=data['paymentMethodIssuer'].value_counts().reset_index()['index'])\n",
    "plt.title('paymentMethodIssuer')"
   ]
  },
  {
   "cell_type": "code",
   "execution_count": 144,
   "metadata": {},
   "outputs": [
    {
     "data": {
      "text/plain": [
       "Text(0.5, 1.0, 'paymentMethodProvider ')"
      ]
     },
     "execution_count": 144,
     "metadata": {},
     "output_type": "execute_result"
    },
    {
     "data": {
      "image/png": "[encoded data removed]",
      "text/plain": [
       "<Figure size 432x288 with 1 Axes>"
      ]
     },
     "metadata": {},
     "output_type": "display_data"
    }
   ],
   "source": [
    "sns.countplot(y=data['paymentMethodProvider'],order=data['paymentMethodProvider'].value_counts().reset_index()['index'])\n",
    "plt.title('paymentMethodProvider ')"
   ]
  },
  {
   "cell_type": "code",
   "execution_count": 145,
   "metadata": {},
   "outputs": [
    {
     "data": {
      "text/plain": [
       "Text(0.5, 1.0, 'paymentMethodType ')"
      ]
     },
     "execution_count": 145,
     "metadata": {},
     "output_type": "execute_result"
    },
    {
     "data": {
      "image/png": "[encoded data removed]",
      "text/plain": [
       "<Figure size 432x288 with 1 Axes>"
      ]
     },
     "metadata": {},
     "output_type": "display_data"
    }
   ],
   "source": [
    "sns.countplot(y=data['paymentMethodType'],order=data['paymentMethodType'].value_counts().reset_index()['index'])\n",
    "plt.title('paymentMethodType ')"
   ]
  },
  {
   "cell_type": "code",
   "execution_count": 146,
   "metadata": {},
   "outputs": [
    {
     "data": {
      "text/plain": [
       "Text(0.5, 1.0, 'Failed Trnx distribution in dataset')"
      ]
     },
     "execution_count": 146,
     "metadata": {},
     "output_type": "execute_result"
    },
    {
     "data": {
      "image/png": "[encoded data removed]",
      "text/plain": [
       "<Figure size 432x288 with 1 Axes>"
      ]
     },
     "metadata": {},
     "output_type": "display_data"
    }
   ],
   "source": [
    "sns.countplot(data['transactionFailed'])\n",
    "plt.title('Failed Trnx distribution in dataset')"
   ]
  },
  {
   "cell_type": "code",
   "execution_count": null,
   "metadata": {},
   "outputs": [],
   "source": []
  },
  {
   "cell_type": "code",
   "execution_count": 147,
   "metadata": {},
   "outputs": [],
   "source": [
    "address_street =[]\n",
    "for order in data['orderShippingAddress']:\n",
    "    address_street.append(order.split('\\n')[0])\n",
    "    \n",
    "data['address_street'] = address_street\n",
    "#data['address_place '] = address_place \n"
   ]
  },
  {
   "cell_type": "code",
   "execution_count": 148,
   "metadata": {},
   "outputs": [
    {
     "data": {
      "text/plain": [
       "Text(0.5, 1.0, 'Address_Street')"
      ]
     },
     "execution_count": 148,
     "metadata": {},
     "output_type": "execute_result"
    },
    {
     "data": {
      "image/png": "[encoded data removed]",
      "text/plain": [
       "<Figure size 432x432 with 1 Axes>"
      ]
     },
     "metadata": {},
     "output_type": "display_data"
    }
   ],
   "source": [
    "plt.figure(figsize=(6,6))\n",
    "sns.countplot(y=data['address_street'],order=data['address_street'].value_counts().reset_index()['index'][:15])\n",
    "plt.title('Address_Street')"
   ]
  },
  {
   "cell_type": "code",
   "execution_count": 149,
   "metadata": {},
   "outputs": [],
   "source": [
    "address_place = {}\n",
    "for order in data['orderShippingAddress']:\n",
    "    if order.split('\\n')[1].split(',')[0] in address_place.keys():\n",
    "        address_place[order.split('\\n')[1].split(',')[0]] += 1\n",
    "    else:\n",
    "        address_place[order.split('\\n')[1].split(',')[0]] = 1"
   ]
  },
  {
   "cell_type": "code",
   "execution_count": 150,
   "metadata": {},
   "outputs": [],
   "source": [
    "address_place= pd.DataFrame([address_place]).T.reset_index().rename(columns={'index':'Places',0:'Values'})"
   ]
  },
  {
   "cell_type": "code",
   "execution_count": 151,
   "metadata": {},
   "outputs": [],
   "source": [
    "address_place= address_place.sort_values(by='Values',ascending=False)"
   ]
  },
  {
   "cell_type": "code",
   "execution_count": 152,
   "metadata": {},
   "outputs": [
    {
     "data": {
      "text/plain": [
       "Text(0.5, 1.0, 'Address_Place')"
      ]
     },
     "execution_count": 152,
     "metadata": {},
     "output_type": "execute_result"
    },
    {
     "data": {
      "image/png": "[encoded data removed]",
      "text/plain": [
       "<Figure size 432x432 with 1 Axes>"
      ]
     },
     "metadata": {},
     "output_type": "display_data"
    }
   ],
   "source": [
    "plt.figure(figsize=(6,6))\n",
    "sns.barplot(y=address_place['Places'][:10],x=address_place['Values'][:10])\n",
    "plt.title('Address_Place')"
   ]
  },
  {
   "cell_type": "raw",
   "metadata": {},
   "source": [
    "# Bivariat analysis\n",
    "fraud vs paymentMethodType after removing pending tranx"
   ]
  },
  {
   "cell_type": "code",
   "execution_count": 170,
   "metadata": {},
   "outputs": [
    {
     "data": {
      "text/plain": [
       "<matplotlib.axes._subplots.AxesSubplot at 0x7f01228e0128>"
      ]
     },
     "execution_count": 170,
     "metadata": {},
     "output_type": "execute_result"
    },
    {
     "data": {
      "image/png": "[encoded data removed]",
      "text/plain": [
       "<Figure size 432x288 with 1 Axes>"
      ]
     },
     "metadata": {},
     "output_type": "display_data"
    }
   ],
   "source": [
    "sns.countplot(y=data_['paymentMethodType'],hue=data['fraud'])\n",
    "# we have equal number of frauds in bitcoin and apple pay "
   ]
  },
  {
   "cell_type": "code",
   "execution_count": 157,
   "metadata": {},
   "outputs": [],
   "source": [
    "# amount vs fraud"
   ]
  },
  {
   "cell_type": "code",
   "execution_count": 212,
   "metadata": {},
   "outputs": [
    {
     "data": {
      "text/plain": [
       "<matplotlib.axes._subplots.AxesSubplot at 0x7f0120b7d940>"
      ]
     },
     "execution_count": 212,
     "metadata": {},
     "output_type": "execute_result"
    },
    {
     "data": {
      "image/png": "[encoded data removed]",
      "text/plain": [
       "<Figure size 432x288 with 1 Axes>"
      ]
     },
     "metadata": {},
     "output_type": "display_data"
    }
   ],
   "source": [
    "sns.scatterplot(x=data['transactionAmount'],y=data['fraud'])"
   ]
  },
  {
   "cell_type": "code",
   "execution_count": 220,
   "metadata": {},
   "outputs": [
    {
     "data": {
      "text/plain": [
       "<matplotlib.axes._subplots.AxesSubplot at 0x7f01209946a0>"
      ]
     },
     "execution_count": 220,
     "metadata": {},
     "output_type": "execute_result"
    },
    {
     "data": {
      "image/png": "[encoded data removed]",
      "text/plain": [
       "<Figure size 432x288 with 1 Axes>"
      ]
     },
     "metadata": {},
     "output_type": "display_data"
    }
   ],
   "source": [
    "sns.boxplot(y=data['transactionAmount'],x=data['fraud_'],data=data)"
   ]
  },
  {
   "cell_type": "code",
   "execution_count": 232,
   "metadata": {},
   "outputs": [
    {
     "data": {
      "text/html": [
       "<div>\n",
       "<style scoped>\n",
       "    .dataframe tbody tr th:only-of-type {\n",
       "        vertical-align: middle;\n",
       "    }\n",
       "\n",
       "    .dataframe tbody tr th {\n",
       "        vertical-align: top;\n",
       "    }\n",
       "\n",
       "    .dataframe thead th {\n",
       "        text-align: right;\n",
       "    }\n",
       "</style>\n",
       "<table border=\"1\" class=\"dataframe\">\n",
       "  <thead>\n",
       "    <tr style=\"text-align: right;\">\n",
       "      <th></th>\n",
       "      <th>paymentMethodRegistrationFailure</th>\n",
       "      <th>fraud</th>\n",
       "    </tr>\n",
       "  </thead>\n",
       "  <tbody>\n",
       "    <tr>\n",
       "      <th>0</th>\n",
       "      <td>0.0</td>\n",
       "      <td>220</td>\n",
       "    </tr>\n",
       "    <tr>\n",
       "      <th>1</th>\n",
       "      <td>1.0</td>\n",
       "      <td>37</td>\n",
       "    </tr>\n",
       "  </tbody>\n",
       "</table>\n",
       "</div>"
      ],
      "text/plain": [
       "   paymentMethodRegistrationFailure  fraud\n",
       "0                               0.0    220\n",
       "1                               1.0     37"
      ]
     },
     "execution_count": 232,
     "metadata": {},
     "output_type": "execute_result"
    }
   ],
   "source": [
    "data.groupby('paymentMethodRegistrationFailure').sum()['fraud'].reset_index()"
   ]
  },
  {
   "cell_type": "code",
   "execution_count": null,
   "metadata": {},
   "outputs": [],
   "source": [
    "# paymentMethodRegistrationFailure & fraud "
   ]
  },
  {
   "cell_type": "code",
   "execution_count": 159,
   "metadata": {},
   "outputs": [],
   "source": [
    "# we can see that extreem amounts are fraud "
   ]
  },
  {
   "cell_type": "code",
   "execution_count": 171,
   "metadata": {},
   "outputs": [],
   "source": [
    "# which payment provider has highest fraud"
   ]
  },
  {
   "cell_type": "code",
   "execution_count": null,
   "metadata": {},
   "outputs": [],
   "source": []
  },
  {
   "cell_type": "code",
   "execution_count": 169,
   "metadata": {},
   "outputs": [
    {
     "data": {
      "text/plain": [
       "<matplotlib.axes._subplots.AxesSubplot at 0x7f0122aa7a20>"
      ]
     },
     "execution_count": 169,
     "metadata": {},
     "output_type": "execute_result"
    },
    {
     "data": {
      "image/png": "[encoded data removed]",
      "text/plain": [
       "<Figure size 432x288 with 1 Axes>"
      ]
     },
     "metadata": {},
     "output_type": "display_data"
    }
   ],
   "source": [
    "sns.countplot(y=data_['paymentMethodProvider'],hue=data['fraud'],order=data_['paymentMethodProvider'].value_counts().reset_index()['index'])"
   ]
  },
  {
   "cell_type": "code",
   "execution_count": 163,
   "metadata": {},
   "outputs": [],
   "source": [
    "#voyager and visa 13 digts"
   ]
  },
  {
   "cell_type": "code",
   "execution_count": 172,
   "metadata": {},
   "outputs": [
    {
     "data": {
      "text/plain": [
       "Index(['customer_id', 'orderId', 'paymentMethodId', 'transactionAmount',\n",
       "       'transactionFailed', 'transactionId', 'customerEmail', 'customerPhone',\n",
       "       'customerDevice', 'customerIPAddress', 'customerBillingAddress',\n",
       "       'fraudulent', 'orderAmount', 'orderShippingAddress', 'orderState',\n",
       "       'paymentMethodIssuer', 'paymentMethodProvider',\n",
       "       'paymentMethodRegistrationFailure', 'paymentMethodType', 'fraud',\n",
       "       'address_street'],\n",
       "      dtype='object')"
      ]
     },
     "execution_count": 172,
     "metadata": {},
     "output_type": "execute_result"
    }
   ],
   "source": [
    "data.columns"
   ]
  },
  {
   "cell_type": "code",
   "execution_count": 175,
   "metadata": {},
   "outputs": [],
   "source": [
    "L = LabelEncoder()"
   ]
  },
  {
   "cell_type": "code",
   "execution_count": 188,
   "metadata": {},
   "outputs": [],
   "source": [
    "data['paymentMethodType_encoded']= L.fit_transform(data['paymentMethodType'])\n",
    "data['paymentMethodProvider_encoded']= L.fit_transform(data['paymentMethodProvider'])\n",
    "data['paymentMethodIssuer_encoded']= L.fit_transform(data['paymentMethodIssuer'])\n",
    "data['customerIPAddress_encoded']= L.fit_transform(data['customerIPAddress'])\n",
    "data['customerDevice_encoded']= L.fit_transform(data['customerDevice'])\n",
    "data['customerPhone_encode']= L.fit_transform(data['customerPhone'])"
   ]
  },
  {
   "cell_type": "code",
   "execution_count": null,
   "metadata": {},
   "outputs": [],
   "source": []
  },
  {
   "cell_type": "code",
   "execution_count": 187,
   "metadata": {},
   "outputs": [
    {
     "data": {
      "text/html": [
       "<div>\n",
       "<style scoped>\n",
       "    .dataframe tbody tr th:only-of-type {\n",
       "        vertical-align: middle;\n",
       "    }\n",
       "\n",
       "    .dataframe tbody tr th {\n",
       "        vertical-align: top;\n",
       "    }\n",
       "\n",
       "    .dataframe thead th {\n",
       "        text-align: right;\n",
       "    }\n",
       "</style>\n",
       "<table border=\"1\" class=\"dataframe\">\n",
       "  <thead>\n",
       "    <tr style=\"text-align: right;\">\n",
       "      <th></th>\n",
       "      <th>customer_id</th>\n",
       "      <th>orderId</th>\n",
       "      <th>paymentMethodId</th>\n",
       "      <th>transactionAmount</th>\n",
       "      <th>transactionFailed</th>\n",
       "      <th>transactionId</th>\n",
       "      <th>customerEmail</th>\n",
       "      <th>customerPhone</th>\n",
       "      <th>customerDevice</th>\n",
       "      <th>customerIPAddress</th>\n",
       "      <th>...</th>\n",
       "      <th>paymentMethodProvider</th>\n",
       "      <th>paymentMethodRegistrationFailure</th>\n",
       "      <th>paymentMethodType</th>\n",
       "      <th>fraud</th>\n",
       "      <th>address_street</th>\n",
       "      <th>paymentMethodType_encoded</th>\n",
       "      <th>paymentMethodProvider_encoded</th>\n",
       "      <th>paymentMethodIssuer_encoded</th>\n",
       "      <th>customerIPAddress_encoded</th>\n",
       "      <th>customerDevice_encoded</th>\n",
       "    </tr>\n",
       "  </thead>\n",
       "  <tbody>\n",
       "    <tr>\n",
       "      <th>0</th>\n",
       "      <td>400-108-5415</td>\n",
       "      <td>vjbdvd</td>\n",
       "      <td>wt07xm68b</td>\n",
       "      <td>18.0</td>\n",
       "      <td>0.0</td>\n",
       "      <td>a9lcj51r</td>\n",
       "      <td>josephhoward@yahoo.com</td>\n",
       "      <td>400-108-5415</td>\n",
       "      <td>yyeiaxpltf82440jnb3v</td>\n",
       "      <td>8.129.104.40</td>\n",
       "      <td>...</td>\n",
       "      <td>JCB 16 digit</td>\n",
       "      <td>1.0</td>\n",
       "      <td>card</td>\n",
       "      <td>0</td>\n",
       "      <td>5493 Jones Islands</td>\n",
       "      <td>2</td>\n",
       "      <td>4</td>\n",
       "      <td>3</td>\n",
       "      <td>94</td>\n",
       "      <td>133</td>\n",
       "    </tr>\n",
       "    <tr>\n",
       "      <th>1</th>\n",
       "      <td>400-108-5415</td>\n",
       "      <td>yp6x27</td>\n",
       "      <td>wt07xm68b</td>\n",
       "      <td>26.0</td>\n",
       "      <td>0.0</td>\n",
       "      <td>y4wcv03i</td>\n",
       "      <td>josephhoward@yahoo.com</td>\n",
       "      <td>400-108-5415</td>\n",
       "      <td>yyeiaxpltf82440jnb3v</td>\n",
       "      <td>8.129.104.40</td>\n",
       "      <td>...</td>\n",
       "      <td>JCB 16 digit</td>\n",
       "      <td>1.0</td>\n",
       "      <td>card</td>\n",
       "      <td>0</td>\n",
       "      <td>5493 Jones Islands</td>\n",
       "      <td>2</td>\n",
       "      <td>4</td>\n",
       "      <td>3</td>\n",
       "      <td>94</td>\n",
       "      <td>133</td>\n",
       "    </tr>\n",
       "    <tr>\n",
       "      <th>2</th>\n",
       "      <td>1-788-091-7546</td>\n",
       "      <td>nlghpa</td>\n",
       "      <td>41ug157xz</td>\n",
       "      <td>45.0</td>\n",
       "      <td>0.0</td>\n",
       "      <td>5mi94sfw</td>\n",
       "      <td>evansjeffery@yahoo.com</td>\n",
       "      <td>1-788-091-7546</td>\n",
       "      <td>r0jpm7xaeqqa3kr6mzum</td>\n",
       "      <td>219.173.211.202</td>\n",
       "      <td>...</td>\n",
       "      <td>American Express</td>\n",
       "      <td>0.0</td>\n",
       "      <td>bitcoin</td>\n",
       "      <td>1</td>\n",
       "      <td>898 Henry Ports</td>\n",
       "      <td>1</td>\n",
       "      <td>0</td>\n",
       "      <td>1</td>\n",
       "      <td>40</td>\n",
       "      <td>100</td>\n",
       "    </tr>\n",
       "    <tr>\n",
       "      <th>3</th>\n",
       "      <td>1-788-091-7546</td>\n",
       "      <td>uw0eeb</td>\n",
       "      <td>41ug157xz</td>\n",
       "      <td>23.0</td>\n",
       "      <td>0.0</td>\n",
       "      <td>br8ba1nu</td>\n",
       "      <td>evansjeffery@yahoo.com</td>\n",
       "      <td>1-788-091-7546</td>\n",
       "      <td>r0jpm7xaeqqa3kr6mzum</td>\n",
       "      <td>219.173.211.202</td>\n",
       "      <td>...</td>\n",
       "      <td>American Express</td>\n",
       "      <td>0.0</td>\n",
       "      <td>bitcoin</td>\n",
       "      <td>1</td>\n",
       "      <td>356 Elizabeth Inlet Suite 120</td>\n",
       "      <td>1</td>\n",
       "      <td>0</td>\n",
       "      <td>1</td>\n",
       "      <td>40</td>\n",
       "      <td>100</td>\n",
       "    </tr>\n",
       "    <tr>\n",
       "      <th>4</th>\n",
       "      <td>1-788-091-7546</td>\n",
       "      <td>bn44oh</td>\n",
       "      <td>y3xp697jx</td>\n",
       "      <td>43.0</td>\n",
       "      <td>1.0</td>\n",
       "      <td>a33145ss</td>\n",
       "      <td>evansjeffery@yahoo.com</td>\n",
       "      <td>1-788-091-7546</td>\n",
       "      <td>r0jpm7xaeqqa3kr6mzum</td>\n",
       "      <td>219.173.211.202</td>\n",
       "      <td>...</td>\n",
       "      <td>VISA 16 digit</td>\n",
       "      <td>1.0</td>\n",
       "      <td>bitcoin</td>\n",
       "      <td>1</td>\n",
       "      <td>5093 Bryan Forks</td>\n",
       "      <td>1</td>\n",
       "      <td>8</td>\n",
       "      <td>9</td>\n",
       "      <td>40</td>\n",
       "      <td>100</td>\n",
       "    </tr>\n",
       "  </tbody>\n",
       "</table>\n",
       "<p>5 rows × 26 columns</p>\n",
       "</div>"
      ],
      "text/plain": [
       "      customer_id orderId paymentMethodId  transactionAmount  \\\n",
       "0    400-108-5415  vjbdvd       wt07xm68b               18.0   \n",
       "1    400-108-5415  yp6x27       wt07xm68b               26.0   \n",
       "2  1-788-091-7546  nlghpa       41ug157xz               45.0   \n",
       "3  1-788-091-7546  uw0eeb       41ug157xz               23.0   \n",
       "4  1-788-091-7546  bn44oh       y3xp697jx               43.0   \n",
       "\n",
       "   transactionFailed transactionId           customerEmail   customerPhone  \\\n",
       "0                0.0      a9lcj51r  josephhoward@yahoo.com    400-108-5415   \n",
       "1                0.0      y4wcv03i  josephhoward@yahoo.com    400-108-5415   \n",
       "2                0.0      5mi94sfw  evansjeffery@yahoo.com  1-788-091-7546   \n",
       "3                0.0      br8ba1nu  evansjeffery@yahoo.com  1-788-091-7546   \n",
       "4                1.0      a33145ss  evansjeffery@yahoo.com  1-788-091-7546   \n",
       "\n",
       "         customerDevice customerIPAddress  ... paymentMethodProvider  \\\n",
       "0  yyeiaxpltf82440jnb3v      8.129.104.40  ...          JCB 16 digit   \n",
       "1  yyeiaxpltf82440jnb3v      8.129.104.40  ...          JCB 16 digit   \n",
       "2  r0jpm7xaeqqa3kr6mzum   219.173.211.202  ...      American Express   \n",
       "3  r0jpm7xaeqqa3kr6mzum   219.173.211.202  ...      American Express   \n",
       "4  r0jpm7xaeqqa3kr6mzum   219.173.211.202  ...         VISA 16 digit   \n",
       "\n",
       "   paymentMethodRegistrationFailure  paymentMethodType fraud  \\\n",
       "0                               1.0               card     0   \n",
       "1                               1.0               card     0   \n",
       "2                               0.0            bitcoin     1   \n",
       "3                               0.0            bitcoin     1   \n",
       "4                               1.0            bitcoin     1   \n",
       "\n",
       "                  address_street paymentMethodType_encoded  \\\n",
       "0             5493 Jones Islands                         2   \n",
       "1             5493 Jones Islands                         2   \n",
       "2                898 Henry Ports                         1   \n",
       "3  356 Elizabeth Inlet Suite 120                         1   \n",
       "4               5093 Bryan Forks                         1   \n",
       "\n",
       "  paymentMethodProvider_encoded  paymentMethodIssuer_encoded  \\\n",
       "0                             4                            3   \n",
       "1                             4                            3   \n",
       "2                             0                            1   \n",
       "3                             0                            1   \n",
       "4                             8                            9   \n",
       "\n",
       "  customerIPAddress_encoded  customerDevice_encoded  \n",
       "0                        94                     133  \n",
       "1                        94                     133  \n",
       "2                        40                     100  \n",
       "3                        40                     100  \n",
       "4                        40                     100  \n",
       "\n",
       "[5 rows x 26 columns]"
      ]
     },
     "execution_count": 187,
     "metadata": {},
     "output_type": "execute_result"
    }
   ],
   "source": [
    "data.head()"
   ]
  },
  {
   "cell_type": "code",
   "execution_count": 199,
   "metadata": {},
   "outputs": [
    {
     "data": {
      "text/plain": [
       "Text(0.5, 1.0, 'transactionAmount vs customerIPAddress_encoded')"
      ]
     },
     "execution_count": 199,
     "metadata": {},
     "output_type": "execute_result"
    },
    {
     "data": {
      "image/png": "[encoded data removed]",
      "text/plain": [
       "<Figure size 432x288 with 1 Axes>"
      ]
     },
     "metadata": {},
     "output_type": "display_data"
    }
   ],
   "source": [
    "sns.scatterplot(x=data['transactionAmount'],y=data['customerIPAddress_encoded'],hue=data['fraud'])\n",
    "plt.title('transactionAmount vs customerIPAddress_encoded')"
   ]
  },
  {
   "cell_type": "code",
   "execution_count": 201,
   "metadata": {},
   "outputs": [],
   "source": [
    "# there are Ip address with fraud labels"
   ]
  },
  {
   "cell_type": "code",
   "execution_count": 233,
   "metadata": {
    "scrolled": true
   },
   "outputs": [],
   "source": [
    "# correlation "
   ]
  },
  {
   "cell_type": "code",
   "execution_count": null,
   "metadata": {},
   "outputs": [],
   "source": []
  },
  {
   "cell_type": "code",
   "execution_count": 192,
   "metadata": {},
   "outputs": [],
   "source": [
    "corr = data[['transactionAmount',\n",
    "       'transactionFailed', \n",
    "      'paymentMethodType_encoded',\n",
    "      'paymentMethodProvider_encoded',\n",
    "      'paymentMethodIssuer_encoded',\n",
    "      'customerIPAddress_encoded',\n",
    "      'customerDevice_encoded',\n",
    "      'customerPhone_encode',\n",
    "      'paymentMethodRegistrationFailure',  'fraud',\n",
    "       ]].corr()"
   ]
  },
  {
   "cell_type": "code",
   "execution_count": 197,
   "metadata": {},
   "outputs": [
    {
     "data": {
      "text/html": [
       "<style  type=\"text/css\" >\n",
       "    #T_ed797f1e_19b4_11ea_8bc8_10e7c6f9a4b7row0_col0 {\n",
       "            background-color:  #fde725;\n",
       "            color:  #000000;\n",
       "        }    #T_ed797f1e_19b4_11ea_8bc8_10e7c6f9a4b7row0_col1 {\n",
       "            background-color:  #481f70;\n",
       "            color:  #f1f1f1;\n",
       "        }    #T_ed797f1e_19b4_11ea_8bc8_10e7c6f9a4b7row0_col2 {\n",
       "            background-color:  #481467;\n",
       "            color:  #f1f1f1;\n",
       "        }    #T_ed797f1e_19b4_11ea_8bc8_10e7c6f9a4b7row0_col3 {\n",
       "            background-color:  #46327e;\n",
       "            color:  #f1f1f1;\n",
       "        }    #T_ed797f1e_19b4_11ea_8bc8_10e7c6f9a4b7row0_col4 {\n",
       "            background-color:  #481769;\n",
       "            color:  #f1f1f1;\n",
       "        }    #T_ed797f1e_19b4_11ea_8bc8_10e7c6f9a4b7row0_col5 {\n",
       "            background-color:  #481d6f;\n",
       "            color:  #f1f1f1;\n",
       "        }    #T_ed797f1e_19b4_11ea_8bc8_10e7c6f9a4b7row0_col6 {\n",
       "            background-color:  #440154;\n",
       "            color:  #f1f1f1;\n",
       "        }    #T_ed797f1e_19b4_11ea_8bc8_10e7c6f9a4b7row0_col7 {\n",
       "            background-color:  #481668;\n",
       "            color:  #f1f1f1;\n",
       "        }    #T_ed797f1e_19b4_11ea_8bc8_10e7c6f9a4b7row0_col8 {\n",
       "            background-color:  #482677;\n",
       "            color:  #f1f1f1;\n",
       "        }    #T_ed797f1e_19b4_11ea_8bc8_10e7c6f9a4b7row0_col9 {\n",
       "            background-color:  #2b748e;\n",
       "            color:  #f1f1f1;\n",
       "        }    #T_ed797f1e_19b4_11ea_8bc8_10e7c6f9a4b7row1_col0 {\n",
       "            background-color:  #48186a;\n",
       "            color:  #f1f1f1;\n",
       "        }    #T_ed797f1e_19b4_11ea_8bc8_10e7c6f9a4b7row1_col1 {\n",
       "            background-color:  #fde725;\n",
       "            color:  #000000;\n",
       "        }    #T_ed797f1e_19b4_11ea_8bc8_10e7c6f9a4b7row1_col2 {\n",
       "            background-color:  #482576;\n",
       "            color:  #f1f1f1;\n",
       "        }    #T_ed797f1e_19b4_11ea_8bc8_10e7c6f9a4b7row1_col3 {\n",
       "            background-color:  #440154;\n",
       "            color:  #f1f1f1;\n",
       "        }    #T_ed797f1e_19b4_11ea_8bc8_10e7c6f9a4b7row1_col4 {\n",
       "            background-color:  #471063;\n",
       "            color:  #f1f1f1;\n",
       "        }    #T_ed797f1e_19b4_11ea_8bc8_10e7c6f9a4b7row1_col5 {\n",
       "            background-color:  #440154;\n",
       "            color:  #f1f1f1;\n",
       "        }    #T_ed797f1e_19b4_11ea_8bc8_10e7c6f9a4b7row1_col6 {\n",
       "            background-color:  #46075a;\n",
       "            color:  #f1f1f1;\n",
       "        }    #T_ed797f1e_19b4_11ea_8bc8_10e7c6f9a4b7row1_col7 {\n",
       "            background-color:  #482878;\n",
       "            color:  #f1f1f1;\n",
       "        }    #T_ed797f1e_19b4_11ea_8bc8_10e7c6f9a4b7row1_col8 {\n",
       "            background-color:  #481a6c;\n",
       "            color:  #f1f1f1;\n",
       "        }    #T_ed797f1e_19b4_11ea_8bc8_10e7c6f9a4b7row1_col9 {\n",
       "            background-color:  #460a5d;\n",
       "            color:  #f1f1f1;\n",
       "        }    #T_ed797f1e_19b4_11ea_8bc8_10e7c6f9a4b7row2_col0 {\n",
       "            background-color:  #440154;\n",
       "            color:  #f1f1f1;\n",
       "        }    #T_ed797f1e_19b4_11ea_8bc8_10e7c6f9a4b7row2_col1 {\n",
       "            background-color:  #481c6e;\n",
       "            color:  #f1f1f1;\n",
       "        }    #T_ed797f1e_19b4_11ea_8bc8_10e7c6f9a4b7row2_col2 {\n",
       "            background-color:  #fde725;\n",
       "            color:  #000000;\n",
       "        }    #T_ed797f1e_19b4_11ea_8bc8_10e7c6f9a4b7row2_col3 {\n",
       "            background-color:  #46337f;\n",
       "            color:  #f1f1f1;\n",
       "        }    #T_ed797f1e_19b4_11ea_8bc8_10e7c6f9a4b7row2_col4 {\n",
       "            background-color:  #471063;\n",
       "            color:  #f1f1f1;\n",
       "        }    #T_ed797f1e_19b4_11ea_8bc8_10e7c6f9a4b7row2_col5 {\n",
       "            background-color:  #482071;\n",
       "            color:  #f1f1f1;\n",
       "        }    #T_ed797f1e_19b4_11ea_8bc8_10e7c6f9a4b7row2_col6 {\n",
       "            background-color:  #482576;\n",
       "            color:  #f1f1f1;\n",
       "        }    #T_ed797f1e_19b4_11ea_8bc8_10e7c6f9a4b7row2_col7 {\n",
       "            background-color:  #440154;\n",
       "            color:  #f1f1f1;\n",
       "        }    #T_ed797f1e_19b4_11ea_8bc8_10e7c6f9a4b7row2_col8 {\n",
       "            background-color:  #440154;\n",
       "            color:  #f1f1f1;\n",
       "        }    #T_ed797f1e_19b4_11ea_8bc8_10e7c6f9a4b7row2_col9 {\n",
       "            background-color:  #440154;\n",
       "            color:  #f1f1f1;\n",
       "        }    #T_ed797f1e_19b4_11ea_8bc8_10e7c6f9a4b7row3_col0 {\n",
       "            background-color:  #472e7c;\n",
       "            color:  #f1f1f1;\n",
       "        }    #T_ed797f1e_19b4_11ea_8bc8_10e7c6f9a4b7row3_col1 {\n",
       "            background-color:  #440256;\n",
       "            color:  #f1f1f1;\n",
       "        }    #T_ed797f1e_19b4_11ea_8bc8_10e7c6f9a4b7row3_col2 {\n",
       "            background-color:  #443b84;\n",
       "            color:  #f1f1f1;\n",
       "        }    #T_ed797f1e_19b4_11ea_8bc8_10e7c6f9a4b7row3_col3 {\n",
       "            background-color:  #fde725;\n",
       "            color:  #000000;\n",
       "        }    #T_ed797f1e_19b4_11ea_8bc8_10e7c6f9a4b7row3_col4 {\n",
       "            background-color:  #414487;\n",
       "            color:  #f1f1f1;\n",
       "        }    #T_ed797f1e_19b4_11ea_8bc8_10e7c6f9a4b7row3_col5 {\n",
       "            background-color:  #471164;\n",
       "            color:  #f1f1f1;\n",
       "        }    #T_ed797f1e_19b4_11ea_8bc8_10e7c6f9a4b7row3_col6 {\n",
       "            background-color:  #472a7a;\n",
       "            color:  #f1f1f1;\n",
       "        }    #T_ed797f1e_19b4_11ea_8bc8_10e7c6f9a4b7row3_col7 {\n",
       "            background-color:  #48186a;\n",
       "            color:  #f1f1f1;\n",
       "        }    #T_ed797f1e_19b4_11ea_8bc8_10e7c6f9a4b7row3_col8 {\n",
       "            background-color:  #450457;\n",
       "            color:  #f1f1f1;\n",
       "        }    #T_ed797f1e_19b4_11ea_8bc8_10e7c6f9a4b7row3_col9 {\n",
       "            background-color:  #423f85;\n",
       "            color:  #f1f1f1;\n",
       "        }    #T_ed797f1e_19b4_11ea_8bc8_10e7c6f9a4b7row4_col0 {\n",
       "            background-color:  #471063;\n",
       "            color:  #f1f1f1;\n",
       "        }    #T_ed797f1e_19b4_11ea_8bc8_10e7c6f9a4b7row4_col1 {\n",
       "            background-color:  #471164;\n",
       "            color:  #f1f1f1;\n",
       "        }    #T_ed797f1e_19b4_11ea_8bc8_10e7c6f9a4b7row4_col2 {\n",
       "            background-color:  #481c6e;\n",
       "            color:  #f1f1f1;\n",
       "        }    #T_ed797f1e_19b4_11ea_8bc8_10e7c6f9a4b7row4_col3 {\n",
       "            background-color:  #414287;\n",
       "            color:  #f1f1f1;\n",
       "        }    #T_ed797f1e_19b4_11ea_8bc8_10e7c6f9a4b7row4_col4 {\n",
       "            background-color:  #fde725;\n",
       "            color:  #000000;\n",
       "        }    #T_ed797f1e_19b4_11ea_8bc8_10e7c6f9a4b7row4_col5 {\n",
       "            background-color:  #481a6c;\n",
       "            color:  #f1f1f1;\n",
       "        }    #T_ed797f1e_19b4_11ea_8bc8_10e7c6f9a4b7row4_col6 {\n",
       "            background-color:  #450457;\n",
       "            color:  #f1f1f1;\n",
       "        }    #T_ed797f1e_19b4_11ea_8bc8_10e7c6f9a4b7row4_col7 {\n",
       "            background-color:  #470d60;\n",
       "            color:  #f1f1f1;\n",
       "        }    #T_ed797f1e_19b4_11ea_8bc8_10e7c6f9a4b7row4_col8 {\n",
       "            background-color:  #482576;\n",
       "            color:  #f1f1f1;\n",
       "        }    #T_ed797f1e_19b4_11ea_8bc8_10e7c6f9a4b7row4_col9 {\n",
       "            background-color:  #472c7a;\n",
       "            color:  #f1f1f1;\n",
       "        }    #T_ed797f1e_19b4_11ea_8bc8_10e7c6f9a4b7row5_col0 {\n",
       "            background-color:  #481769;\n",
       "            color:  #f1f1f1;\n",
       "        }    #T_ed797f1e_19b4_11ea_8bc8_10e7c6f9a4b7row5_col1 {\n",
       "            background-color:  #440154;\n",
       "            color:  #f1f1f1;\n",
       "        }    #T_ed797f1e_19b4_11ea_8bc8_10e7c6f9a4b7row5_col2 {\n",
       "            background-color:  #482979;\n",
       "            color:  #f1f1f1;\n",
       "        }    #T_ed797f1e_19b4_11ea_8bc8_10e7c6f9a4b7row5_col3 {\n",
       "            background-color:  #471063;\n",
       "            color:  #f1f1f1;\n",
       "        }    #T_ed797f1e_19b4_11ea_8bc8_10e7c6f9a4b7row5_col4 {\n",
       "            background-color:  #48186a;\n",
       "            color:  #f1f1f1;\n",
       "        }    #T_ed797f1e_19b4_11ea_8bc8_10e7c6f9a4b7row5_col5 {\n",
       "            background-color:  #fde725;\n",
       "            color:  #000000;\n",
       "        }    #T_ed797f1e_19b4_11ea_8bc8_10e7c6f9a4b7row5_col6 {\n",
       "            background-color:  #472a7a;\n",
       "            color:  #f1f1f1;\n",
       "        }    #T_ed797f1e_19b4_11ea_8bc8_10e7c6f9a4b7row5_col7 {\n",
       "            background-color:  #433e85;\n",
       "            color:  #f1f1f1;\n",
       "        }    #T_ed797f1e_19b4_11ea_8bc8_10e7c6f9a4b7row5_col8 {\n",
       "            background-color:  #482576;\n",
       "            color:  #f1f1f1;\n",
       "        }    #T_ed797f1e_19b4_11ea_8bc8_10e7c6f9a4b7row5_col9 {\n",
       "            background-color:  #481d6f;\n",
       "            color:  #f1f1f1;\n",
       "        }    #T_ed797f1e_19b4_11ea_8bc8_10e7c6f9a4b7row6_col0 {\n",
       "            background-color:  #46075a;\n",
       "            color:  #f1f1f1;\n",
       "        }    #T_ed797f1e_19b4_11ea_8bc8_10e7c6f9a4b7row6_col1 {\n",
       "            background-color:  #481467;\n",
       "            color:  #f1f1f1;\n",
       "        }    #T_ed797f1e_19b4_11ea_8bc8_10e7c6f9a4b7row6_col2 {\n",
       "            background-color:  #443983;\n",
       "            color:  #f1f1f1;\n",
       "        }    #T_ed797f1e_19b4_11ea_8bc8_10e7c6f9a4b7row6_col3 {\n",
       "            background-color:  #463480;\n",
       "            color:  #f1f1f1;\n",
       "        }    #T_ed797f1e_19b4_11ea_8bc8_10e7c6f9a4b7row6_col4 {\n",
       "            background-color:  #471063;\n",
       "            color:  #f1f1f1;\n",
       "        }    #T_ed797f1e_19b4_11ea_8bc8_10e7c6f9a4b7row6_col5 {\n",
       "            background-color:  #463480;\n",
       "            color:  #f1f1f1;\n",
       "        }    #T_ed797f1e_19b4_11ea_8bc8_10e7c6f9a4b7row6_col6 {\n",
       "            background-color:  #fde725;\n",
       "            color:  #000000;\n",
       "        }    #T_ed797f1e_19b4_11ea_8bc8_10e7c6f9a4b7row6_col7 {\n",
       "            background-color:  #482374;\n",
       "            color:  #f1f1f1;\n",
       "        }    #T_ed797f1e_19b4_11ea_8bc8_10e7c6f9a4b7row6_col8 {\n",
       "            background-color:  #482475;\n",
       "            color:  #f1f1f1;\n",
       "        }    #T_ed797f1e_19b4_11ea_8bc8_10e7c6f9a4b7row6_col9 {\n",
       "            background-color:  #482979;\n",
       "            color:  #f1f1f1;\n",
       "        }    #T_ed797f1e_19b4_11ea_8bc8_10e7c6f9a4b7row7_col0 {\n",
       "            background-color:  #440256;\n",
       "            color:  #f1f1f1;\n",
       "        }    #T_ed797f1e_19b4_11ea_8bc8_10e7c6f9a4b7row7_col1 {\n",
       "            background-color:  #481f70;\n",
       "            color:  #f1f1f1;\n",
       "        }    #T_ed797f1e_19b4_11ea_8bc8_10e7c6f9a4b7row7_col2 {\n",
       "            background-color:  #440154;\n",
       "            color:  #f1f1f1;\n",
       "        }    #T_ed797f1e_19b4_11ea_8bc8_10e7c6f9a4b7row7_col3 {\n",
       "            background-color:  #460b5e;\n",
       "            color:  #f1f1f1;\n",
       "        }    #T_ed797f1e_19b4_11ea_8bc8_10e7c6f9a4b7row7_col4 {\n",
       "            background-color:  #440154;\n",
       "            color:  #f1f1f1;\n",
       "        }    #T_ed797f1e_19b4_11ea_8bc8_10e7c6f9a4b7row7_col5 {\n",
       "            background-color:  #453581;\n",
       "            color:  #f1f1f1;\n",
       "        }    #T_ed797f1e_19b4_11ea_8bc8_10e7c6f9a4b7row7_col6 {\n",
       "            background-color:  #460b5e;\n",
       "            color:  #f1f1f1;\n",
       "        }    #T_ed797f1e_19b4_11ea_8bc8_10e7c6f9a4b7row7_col7 {\n",
       "            background-color:  #fde725;\n",
       "            color:  #000000;\n",
       "        }    #T_ed797f1e_19b4_11ea_8bc8_10e7c6f9a4b7row7_col8 {\n",
       "            background-color:  #404588;\n",
       "            color:  #f1f1f1;\n",
       "        }    #T_ed797f1e_19b4_11ea_8bc8_10e7c6f9a4b7row7_col9 {\n",
       "            background-color:  #481f70;\n",
       "            color:  #f1f1f1;\n",
       "        }    #T_ed797f1e_19b4_11ea_8bc8_10e7c6f9a4b7row8_col0 {\n",
       "            background-color:  #482475;\n",
       "            color:  #f1f1f1;\n",
       "        }    #T_ed797f1e_19b4_11ea_8bc8_10e7c6f9a4b7row8_col1 {\n",
       "            background-color:  #481d6f;\n",
       "            color:  #f1f1f1;\n",
       "        }    #T_ed797f1e_19b4_11ea_8bc8_10e7c6f9a4b7row8_col2 {\n",
       "            background-color:  #471164;\n",
       "            color:  #f1f1f1;\n",
       "        }    #T_ed797f1e_19b4_11ea_8bc8_10e7c6f9a4b7row8_col3 {\n",
       "            background-color:  #46075a;\n",
       "            color:  #f1f1f1;\n",
       "        }    #T_ed797f1e_19b4_11ea_8bc8_10e7c6f9a4b7row8_col4 {\n",
       "            background-color:  #482979;\n",
       "            color:  #f1f1f1;\n",
       "        }    #T_ed797f1e_19b4_11ea_8bc8_10e7c6f9a4b7row8_col5 {\n",
       "            background-color:  #472a7a;\n",
       "            color:  #f1f1f1;\n",
       "        }    #T_ed797f1e_19b4_11ea_8bc8_10e7c6f9a4b7row8_col6 {\n",
       "            background-color:  #481c6e;\n",
       "            color:  #f1f1f1;\n",
       "        }    #T_ed797f1e_19b4_11ea_8bc8_10e7c6f9a4b7row8_col7 {\n",
       "            background-color:  #3c4f8a;\n",
       "            color:  #f1f1f1;\n",
       "        }    #T_ed797f1e_19b4_11ea_8bc8_10e7c6f9a4b7row8_col8 {\n",
       "            background-color:  #fde725;\n",
       "            color:  #000000;\n",
       "        }    #T_ed797f1e_19b4_11ea_8bc8_10e7c6f9a4b7row8_col9 {\n",
       "            background-color:  #482979;\n",
       "            color:  #f1f1f1;\n",
       "        }    #T_ed797f1e_19b4_11ea_8bc8_10e7c6f9a4b7row9_col0 {\n",
       "            background-color:  #2d708e;\n",
       "            color:  #f1f1f1;\n",
       "        }    #T_ed797f1e_19b4_11ea_8bc8_10e7c6f9a4b7row9_col1 {\n",
       "            background-color:  #46075a;\n",
       "            color:  #f1f1f1;\n",
       "        }    #T_ed797f1e_19b4_11ea_8bc8_10e7c6f9a4b7row9_col2 {\n",
       "            background-color:  #46085c;\n",
       "            color:  #f1f1f1;\n",
       "        }    #T_ed797f1e_19b4_11ea_8bc8_10e7c6f9a4b7row9_col3 {\n",
       "            background-color:  #443b84;\n",
       "            color:  #f1f1f1;\n",
       "        }    #T_ed797f1e_19b4_11ea_8bc8_10e7c6f9a4b7row9_col4 {\n",
       "            background-color:  #482878;\n",
       "            color:  #f1f1f1;\n",
       "        }    #T_ed797f1e_19b4_11ea_8bc8_10e7c6f9a4b7row9_col5 {\n",
       "            background-color:  #481b6d;\n",
       "            color:  #f1f1f1;\n",
       "        }    #T_ed797f1e_19b4_11ea_8bc8_10e7c6f9a4b7row9_col6 {\n",
       "            background-color:  #481b6d;\n",
       "            color:  #f1f1f1;\n",
       "        }    #T_ed797f1e_19b4_11ea_8bc8_10e7c6f9a4b7row9_col7 {\n",
       "            background-color:  #482576;\n",
       "            color:  #f1f1f1;\n",
       "        }    #T_ed797f1e_19b4_11ea_8bc8_10e7c6f9a4b7row9_col8 {\n",
       "            background-color:  #482374;\n",
       "            color:  #f1f1f1;\n",
       "        }    #T_ed797f1e_19b4_11ea_8bc8_10e7c6f9a4b7row9_col9 {\n",
       "            background-color:  #fde725;\n",
       "            color:  #000000;\n",
       "        }</style><table id=\"T_ed797f1e_19b4_11ea_8bc8_10e7c6f9a4b7\" ><thead>    <tr>        <th class=\"blank level0\" ></th>        <th class=\"col_heading level0 col0\" >transactionAmount</th>        <th class=\"col_heading level0 col1\" >transactionFailed</th>        <th class=\"col_heading level0 col2\" >paymentMethodType_encoded</th>        <th class=\"col_heading level0 col3\" >paymentMethodProvider_encoded</th>        <th class=\"col_heading level0 col4\" >paymentMethodIssuer_encoded</th>        <th class=\"col_heading level0 col5\" >customerIPAddress_encoded</th>        <th class=\"col_heading level0 col6\" >customerDevice_encoded</th>        <th class=\"col_heading level0 col7\" >customerPhone_encode</th>        <th class=\"col_heading level0 col8\" >paymentMethodRegistrationFailure</th>        <th class=\"col_heading level0 col9\" >fraud</th>    </tr></thead><tbody>\n",
       "                <tr>\n",
       "                        <th id=\"T_ed797f1e_19b4_11ea_8bc8_10e7c6f9a4b7level0_row0\" class=\"row_heading level0 row0\" >transactionAmount</th>\n",
       "                        <td id=\"T_ed797f1e_19b4_11ea_8bc8_10e7c6f9a4b7row0_col0\" class=\"data row0 col0\" >1</td>\n",
       "                        <td id=\"T_ed797f1e_19b4_11ea_8bc8_10e7c6f9a4b7row0_col1\" class=\"data row0 col1\" >0.0024</td>\n",
       "                        <td id=\"T_ed797f1e_19b4_11ea_8bc8_10e7c6f9a4b7row0_col2\" class=\"data row0 col2\" >-0.064</td>\n",
       "                        <td id=\"T_ed797f1e_19b4_11ea_8bc8_10e7c6f9a4b7row0_col3\" class=\"data row0 col3\" >0.073</td>\n",
       "                        <td id=\"T_ed797f1e_19b4_11ea_8bc8_10e7c6f9a4b7row0_col4\" class=\"data row0 col4\" >-0.02</td>\n",
       "                        <td id=\"T_ed797f1e_19b4_11ea_8bc8_10e7c6f9a4b7row0_col5\" class=\"data row0 col5\" >-0.0011</td>\n",
       "                        <td id=\"T_ed797f1e_19b4_11ea_8bc8_10e7c6f9a4b7row0_col6\" class=\"data row0 col6\" >-0.046</td>\n",
       "                        <td id=\"T_ed797f1e_19b4_11ea_8bc8_10e7c6f9a4b7row0_col7\" class=\"data row0 col7\" >-0.059</td>\n",
       "                        <td id=\"T_ed797f1e_19b4_11ea_8bc8_10e7c6f9a4b7row0_col8\" class=\"data row0 col8\" >0.042</td>\n",
       "                        <td id=\"T_ed797f1e_19b4_11ea_8bc8_10e7c6f9a4b7row0_col9\" class=\"data row0 col9\" >0.33</td>\n",
       "            </tr>\n",
       "            <tr>\n",
       "                        <th id=\"T_ed797f1e_19b4_11ea_8bc8_10e7c6f9a4b7level0_row1\" class=\"row_heading level0 row1\" >transactionFailed</th>\n",
       "                        <td id=\"T_ed797f1e_19b4_11ea_8bc8_10e7c6f9a4b7row1_col0\" class=\"data row1 col0\" >0.0024</td>\n",
       "                        <td id=\"T_ed797f1e_19b4_11ea_8bc8_10e7c6f9a4b7row1_col1\" class=\"data row1 col1\" >1</td>\n",
       "                        <td id=\"T_ed797f1e_19b4_11ea_8bc8_10e7c6f9a4b7row1_col2\" class=\"data row1 col2\" >-0.0046</td>\n",
       "                        <td id=\"T_ed797f1e_19b4_11ea_8bc8_10e7c6f9a4b7row1_col3\" class=\"data row1 col3\" >-0.082</td>\n",
       "                        <td id=\"T_ed797f1e_19b4_11ea_8bc8_10e7c6f9a4b7row1_col4\" class=\"data row1 col4\" >-0.039</td>\n",
       "                        <td id=\"T_ed797f1e_19b4_11ea_8bc8_10e7c6f9a4b7row1_col5\" class=\"data row1 col5\" >-0.088</td>\n",
       "                        <td id=\"T_ed797f1e_19b4_11ea_8bc8_10e7c6f9a4b7row1_col6\" class=\"data row1 col6\" >-0.03</td>\n",
       "                        <td id=\"T_ed797f1e_19b4_11ea_8bc8_10e7c6f9a4b7row1_col7\" class=\"data row1 col7\" >0.0035</td>\n",
       "                        <td id=\"T_ed797f1e_19b4_11ea_8bc8_10e7c6f9a4b7row1_col8\" class=\"data row1 col8\" >-0.0012</td>\n",
       "                        <td id=\"T_ed797f1e_19b4_11ea_8bc8_10e7c6f9a4b7row1_col9\" class=\"data row1 col9\" >-0.068</td>\n",
       "            </tr>\n",
       "            <tr>\n",
       "                        <th id=\"T_ed797f1e_19b4_11ea_8bc8_10e7c6f9a4b7level0_row2\" class=\"row_heading level0 row2\" >paymentMethodType_encoded</th>\n",
       "                        <td id=\"T_ed797f1e_19b4_11ea_8bc8_10e7c6f9a4b7row2_col0\" class=\"data row2 col0\" >-0.064</td>\n",
       "                        <td id=\"T_ed797f1e_19b4_11ea_8bc8_10e7c6f9a4b7row2_col1\" class=\"data row2 col1\" >-0.0046</td>\n",
       "                        <td id=\"T_ed797f1e_19b4_11ea_8bc8_10e7c6f9a4b7row2_col2\" class=\"data row2 col2\" >1</td>\n",
       "                        <td id=\"T_ed797f1e_19b4_11ea_8bc8_10e7c6f9a4b7row2_col3\" class=\"data row2 col3\" >0.075</td>\n",
       "                        <td id=\"T_ed797f1e_19b4_11ea_8bc8_10e7c6f9a4b7row2_col4\" class=\"data row2 col4\" >-0.038</td>\n",
       "                        <td id=\"T_ed797f1e_19b4_11ea_8bc8_10e7c6f9a4b7row2_col5\" class=\"data row2 col5\" >0.0076</td>\n",
       "                        <td id=\"T_ed797f1e_19b4_11ea_8bc8_10e7c6f9a4b7row2_col6\" class=\"data row2 col6\" >0.064</td>\n",
       "                        <td id=\"T_ed797f1e_19b4_11ea_8bc8_10e7c6f9a4b7row2_col7\" class=\"data row2 col7\" >-0.12</td>\n",
       "                        <td id=\"T_ed797f1e_19b4_11ea_8bc8_10e7c6f9a4b7row2_col8\" class=\"data row2 col8\" >-0.073</td>\n",
       "                        <td id=\"T_ed797f1e_19b4_11ea_8bc8_10e7c6f9a4b7row2_col9\" class=\"data row2 col9\" >-0.098</td>\n",
       "            </tr>\n",
       "            <tr>\n",
       "                        <th id=\"T_ed797f1e_19b4_11ea_8bc8_10e7c6f9a4b7level0_row3\" class=\"row_heading level0 row3\" >paymentMethodProvider_encoded</th>\n",
       "                        <td id=\"T_ed797f1e_19b4_11ea_8bc8_10e7c6f9a4b7row3_col0\" class=\"data row3 col0\" >0.073</td>\n",
       "                        <td id=\"T_ed797f1e_19b4_11ea_8bc8_10e7c6f9a4b7row3_col1\" class=\"data row3 col1\" >-0.082</td>\n",
       "                        <td id=\"T_ed797f1e_19b4_11ea_8bc8_10e7c6f9a4b7row3_col2\" class=\"data row3 col2\" >0.075</td>\n",
       "                        <td id=\"T_ed797f1e_19b4_11ea_8bc8_10e7c6f9a4b7row3_col3\" class=\"data row3 col3\" >1</td>\n",
       "                        <td id=\"T_ed797f1e_19b4_11ea_8bc8_10e7c6f9a4b7row3_col4\" class=\"data row3 col4\" >0.13</td>\n",
       "                        <td id=\"T_ed797f1e_19b4_11ea_8bc8_10e7c6f9a4b7row3_col5\" class=\"data row3 col5\" >-0.037</td>\n",
       "                        <td id=\"T_ed797f1e_19b4_11ea_8bc8_10e7c6f9a4b7row3_col6\" class=\"data row3 col6\" >0.079</td>\n",
       "                        <td id=\"T_ed797f1e_19b4_11ea_8bc8_10e7c6f9a4b7row3_col7\" class=\"data row3 col7\" >-0.049</td>\n",
       "                        <td id=\"T_ed797f1e_19b4_11ea_8bc8_10e7c6f9a4b7row3_col8\" class=\"data row3 col8\" >-0.063</td>\n",
       "                        <td id=\"T_ed797f1e_19b4_11ea_8bc8_10e7c6f9a4b7row3_col9\" class=\"data row3 col9\" >0.11</td>\n",
       "            </tr>\n",
       "            <tr>\n",
       "                        <th id=\"T_ed797f1e_19b4_11ea_8bc8_10e7c6f9a4b7level0_row4\" class=\"row_heading level0 row4\" >paymentMethodIssuer_encoded</th>\n",
       "                        <td id=\"T_ed797f1e_19b4_11ea_8bc8_10e7c6f9a4b7row4_col0\" class=\"data row4 col0\" >-0.02</td>\n",
       "                        <td id=\"T_ed797f1e_19b4_11ea_8bc8_10e7c6f9a4b7row4_col1\" class=\"data row4 col1\" >-0.039</td>\n",
       "                        <td id=\"T_ed797f1e_19b4_11ea_8bc8_10e7c6f9a4b7row4_col2\" class=\"data row4 col2\" >-0.038</td>\n",
       "                        <td id=\"T_ed797f1e_19b4_11ea_8bc8_10e7c6f9a4b7row4_col3\" class=\"data row4 col3\" >0.13</td>\n",
       "                        <td id=\"T_ed797f1e_19b4_11ea_8bc8_10e7c6f9a4b7row4_col4\" class=\"data row4 col4\" >1</td>\n",
       "                        <td id=\"T_ed797f1e_19b4_11ea_8bc8_10e7c6f9a4b7row4_col5\" class=\"data row4 col5\" >-0.015</td>\n",
       "                        <td id=\"T_ed797f1e_19b4_11ea_8bc8_10e7c6f9a4b7row4_col6\" class=\"data row4 col6\" >-0.037</td>\n",
       "                        <td id=\"T_ed797f1e_19b4_11ea_8bc8_10e7c6f9a4b7row4_col7\" class=\"data row4 col7\" >-0.084</td>\n",
       "                        <td id=\"T_ed797f1e_19b4_11ea_8bc8_10e7c6f9a4b7row4_col8\" class=\"data row4 col8\" >0.04</td>\n",
       "                        <td id=\"T_ed797f1e_19b4_11ea_8bc8_10e7c6f9a4b7row4_col9\" class=\"data row4 col9\" >0.038</td>\n",
       "            </tr>\n",
       "            <tr>\n",
       "                        <th id=\"T_ed797f1e_19b4_11ea_8bc8_10e7c6f9a4b7level0_row5\" class=\"row_heading level0 row5\" >customerIPAddress_encoded</th>\n",
       "                        <td id=\"T_ed797f1e_19b4_11ea_8bc8_10e7c6f9a4b7row5_col0\" class=\"data row5 col0\" >-0.0011</td>\n",
       "                        <td id=\"T_ed797f1e_19b4_11ea_8bc8_10e7c6f9a4b7row5_col1\" class=\"data row5 col1\" >-0.088</td>\n",
       "                        <td id=\"T_ed797f1e_19b4_11ea_8bc8_10e7c6f9a4b7row5_col2\" class=\"data row5 col2\" >0.0076</td>\n",
       "                        <td id=\"T_ed797f1e_19b4_11ea_8bc8_10e7c6f9a4b7row5_col3\" class=\"data row5 col3\" >-0.037</td>\n",
       "                        <td id=\"T_ed797f1e_19b4_11ea_8bc8_10e7c6f9a4b7row5_col4\" class=\"data row5 col4\" >-0.015</td>\n",
       "                        <td id=\"T_ed797f1e_19b4_11ea_8bc8_10e7c6f9a4b7row5_col5\" class=\"data row5 col5\" >1</td>\n",
       "                        <td id=\"T_ed797f1e_19b4_11ea_8bc8_10e7c6f9a4b7row5_col6\" class=\"data row5 col6\" >0.077</td>\n",
       "                        <td id=\"T_ed797f1e_19b4_11ea_8bc8_10e7c6f9a4b7row5_col7\" class=\"data row5 col7\" >0.081</td>\n",
       "                        <td id=\"T_ed797f1e_19b4_11ea_8bc8_10e7c6f9a4b7row5_col8\" class=\"data row5 col8\" >0.04</td>\n",
       "                        <td id=\"T_ed797f1e_19b4_11ea_8bc8_10e7c6f9a4b7row5_col9\" class=\"data row5 col9\" >-0.01</td>\n",
       "            </tr>\n",
       "            <tr>\n",
       "                        <th id=\"T_ed797f1e_19b4_11ea_8bc8_10e7c6f9a4b7level0_row6\" class=\"row_heading level0 row6\" >customerDevice_encoded</th>\n",
       "                        <td id=\"T_ed797f1e_19b4_11ea_8bc8_10e7c6f9a4b7row6_col0\" class=\"data row6 col0\" >-0.046</td>\n",
       "                        <td id=\"T_ed797f1e_19b4_11ea_8bc8_10e7c6f9a4b7row6_col1\" class=\"data row6 col1\" >-0.03</td>\n",
       "                        <td id=\"T_ed797f1e_19b4_11ea_8bc8_10e7c6f9a4b7row6_col2\" class=\"data row6 col2\" >0.064</td>\n",
       "                        <td id=\"T_ed797f1e_19b4_11ea_8bc8_10e7c6f9a4b7row6_col3\" class=\"data row6 col3\" >0.079</td>\n",
       "                        <td id=\"T_ed797f1e_19b4_11ea_8bc8_10e7c6f9a4b7row6_col4\" class=\"data row6 col4\" >-0.037</td>\n",
       "                        <td id=\"T_ed797f1e_19b4_11ea_8bc8_10e7c6f9a4b7row6_col5\" class=\"data row6 col5\" >0.077</td>\n",
       "                        <td id=\"T_ed797f1e_19b4_11ea_8bc8_10e7c6f9a4b7row6_col6\" class=\"data row6 col6\" >1</td>\n",
       "                        <td id=\"T_ed797f1e_19b4_11ea_8bc8_10e7c6f9a4b7row6_col7\" class=\"data row6 col7\" >-0.016</td>\n",
       "                        <td id=\"T_ed797f1e_19b4_11ea_8bc8_10e7c6f9a4b7row6_col8\" class=\"data row6 col8\" >0.034</td>\n",
       "                        <td id=\"T_ed797f1e_19b4_11ea_8bc8_10e7c6f9a4b7row6_col9\" class=\"data row6 col9\" >0.031</td>\n",
       "            </tr>\n",
       "            <tr>\n",
       "                        <th id=\"T_ed797f1e_19b4_11ea_8bc8_10e7c6f9a4b7level0_row7\" class=\"row_heading level0 row7\" >customerPhone_encode</th>\n",
       "                        <td id=\"T_ed797f1e_19b4_11ea_8bc8_10e7c6f9a4b7row7_col0\" class=\"data row7 col0\" >-0.059</td>\n",
       "                        <td id=\"T_ed797f1e_19b4_11ea_8bc8_10e7c6f9a4b7row7_col1\" class=\"data row7 col1\" >0.0035</td>\n",
       "                        <td id=\"T_ed797f1e_19b4_11ea_8bc8_10e7c6f9a4b7row7_col2\" class=\"data row7 col2\" >-0.12</td>\n",
       "                        <td id=\"T_ed797f1e_19b4_11ea_8bc8_10e7c6f9a4b7row7_col3\" class=\"data row7 col3\" >-0.049</td>\n",
       "                        <td id=\"T_ed797f1e_19b4_11ea_8bc8_10e7c6f9a4b7row7_col4\" class=\"data row7 col4\" >-0.084</td>\n",
       "                        <td id=\"T_ed797f1e_19b4_11ea_8bc8_10e7c6f9a4b7row7_col5\" class=\"data row7 col5\" >0.081</td>\n",
       "                        <td id=\"T_ed797f1e_19b4_11ea_8bc8_10e7c6f9a4b7row7_col6\" class=\"data row7 col6\" >-0.016</td>\n",
       "                        <td id=\"T_ed797f1e_19b4_11ea_8bc8_10e7c6f9a4b7row7_col7\" class=\"data row7 col7\" >1</td>\n",
       "                        <td id=\"T_ed797f1e_19b4_11ea_8bc8_10e7c6f9a4b7row7_col8\" class=\"data row7 col8\" >0.15</td>\n",
       "                        <td id=\"T_ed797f1e_19b4_11ea_8bc8_10e7c6f9a4b7row7_col9\" class=\"data row7 col9\" >-0.0071</td>\n",
       "            </tr>\n",
       "            <tr>\n",
       "                        <th id=\"T_ed797f1e_19b4_11ea_8bc8_10e7c6f9a4b7level0_row8\" class=\"row_heading level0 row8\" >paymentMethodRegistrationFailure</th>\n",
       "                        <td id=\"T_ed797f1e_19b4_11ea_8bc8_10e7c6f9a4b7row8_col0\" class=\"data row8 col0\" >0.042</td>\n",
       "                        <td id=\"T_ed797f1e_19b4_11ea_8bc8_10e7c6f9a4b7row8_col1\" class=\"data row8 col1\" >-0.0012</td>\n",
       "                        <td id=\"T_ed797f1e_19b4_11ea_8bc8_10e7c6f9a4b7row8_col2\" class=\"data row8 col2\" >-0.073</td>\n",
       "                        <td id=\"T_ed797f1e_19b4_11ea_8bc8_10e7c6f9a4b7row8_col3\" class=\"data row8 col3\" >-0.063</td>\n",
       "                        <td id=\"T_ed797f1e_19b4_11ea_8bc8_10e7c6f9a4b7row8_col4\" class=\"data row8 col4\" >0.04</td>\n",
       "                        <td id=\"T_ed797f1e_19b4_11ea_8bc8_10e7c6f9a4b7row8_col5\" class=\"data row8 col5\" >0.04</td>\n",
       "                        <td id=\"T_ed797f1e_19b4_11ea_8bc8_10e7c6f9a4b7row8_col6\" class=\"data row8 col6\" >0.034</td>\n",
       "                        <td id=\"T_ed797f1e_19b4_11ea_8bc8_10e7c6f9a4b7row8_col7\" class=\"data row8 col7\" >0.15</td>\n",
       "                        <td id=\"T_ed797f1e_19b4_11ea_8bc8_10e7c6f9a4b7row8_col8\" class=\"data row8 col8\" >1</td>\n",
       "                        <td id=\"T_ed797f1e_19b4_11ea_8bc8_10e7c6f9a4b7row8_col9\" class=\"data row8 col9\" >0.031</td>\n",
       "            </tr>\n",
       "            <tr>\n",
       "                        <th id=\"T_ed797f1e_19b4_11ea_8bc8_10e7c6f9a4b7level0_row9\" class=\"row_heading level0 row9\" >fraud</th>\n",
       "                        <td id=\"T_ed797f1e_19b4_11ea_8bc8_10e7c6f9a4b7row9_col0\" class=\"data row9 col0\" >0.33</td>\n",
       "                        <td id=\"T_ed797f1e_19b4_11ea_8bc8_10e7c6f9a4b7row9_col1\" class=\"data row9 col1\" >-0.068</td>\n",
       "                        <td id=\"T_ed797f1e_19b4_11ea_8bc8_10e7c6f9a4b7row9_col2\" class=\"data row9 col2\" >-0.098</td>\n",
       "                        <td id=\"T_ed797f1e_19b4_11ea_8bc8_10e7c6f9a4b7row9_col3\" class=\"data row9 col3\" >0.11</td>\n",
       "                        <td id=\"T_ed797f1e_19b4_11ea_8bc8_10e7c6f9a4b7row9_col4\" class=\"data row9 col4\" >0.038</td>\n",
       "                        <td id=\"T_ed797f1e_19b4_11ea_8bc8_10e7c6f9a4b7row9_col5\" class=\"data row9 col5\" >-0.01</td>\n",
       "                        <td id=\"T_ed797f1e_19b4_11ea_8bc8_10e7c6f9a4b7row9_col6\" class=\"data row9 col6\" >0.031</td>\n",
       "                        <td id=\"T_ed797f1e_19b4_11ea_8bc8_10e7c6f9a4b7row9_col7\" class=\"data row9 col7\" >-0.0071</td>\n",
       "                        <td id=\"T_ed797f1e_19b4_11ea_8bc8_10e7c6f9a4b7row9_col8\" class=\"data row9 col8\" >0.031</td>\n",
       "                        <td id=\"T_ed797f1e_19b4_11ea_8bc8_10e7c6f9a4b7row9_col9\" class=\"data row9 col9\" >1</td>\n",
       "            </tr>\n",
       "    </tbody></table>"
      ],
      "text/plain": [
       "<pandas.io.formats.style.Styler at 0x7f0121548860>"
      ]
     },
     "execution_count": 197,
     "metadata": {},
     "output_type": "execute_result"
    }
   ],
   "source": [
    "\n",
    "corr.style.background_gradient(cmap='viridis').set_precision(2)"
   ]
  },
  {
   "cell_type": "code",
   "execution_count": null,
   "metadata": {},
   "outputs": [],
   "source": []
  },
  {
   "cell_type": "code",
   "execution_count": 235,
   "metadata": {},
   "outputs": [],
   "source": [
    "# model"
   ]
  },
  {
   "cell_type": "code",
   "execution_count": 238,
   "metadata": {},
   "outputs": [],
   "source": [
    "data_1 = data[data['orderState'] != 'pending']"
   ]
  },
  {
   "cell_type": "code",
   "execution_count": 447,
   "metadata": {},
   "outputs": [],
   "source": [
    "data_model = data_1[['transactionAmount',\n",
    "       'transactionFailed', \n",
    "      'paymentMethodType_encoded',\n",
    "      'paymentMethodProvider_encoded',\n",
    "      'paymentMethodIssuer_encoded',\n",
    "      'customerIPAddress_encoded',\n",
    "      'customerDevice_encoded',\n",
    "      'customerPhone_encode',\n",
    "      'paymentMethodRegistrationFailure',  'fraud',\n",
    "       ]]"
   ]
  },
  {
   "cell_type": "code",
   "execution_count": 448,
   "metadata": {},
   "outputs": [],
   "source": [
    "x =data_model.iloc[:,:-1]\n",
    "y =data_model.iloc[:,-1]"
   ]
  },
  {
   "cell_type": "code",
   "execution_count": 449,
   "metadata": {},
   "outputs": [],
   "source": [
    "x_train,x_test,y_train,y_test = train_test_split(x,y,test_size=0.2, random_state=42)"
   ]
  },
  {
   "cell_type": "code",
   "execution_count": 450,
   "metadata": {},
   "outputs": [],
   "source": [
    "# will be applying Logistic regression & decision tree "
   ]
  },
  {
   "cell_type": "code",
   "execution_count": 451,
   "metadata": {},
   "outputs": [],
   "source": [
    "from sklearn.linear_model import LogisticRegression"
   ]
  },
  {
   "cell_type": "code",
   "execution_count": 452,
   "metadata": {},
   "outputs": [],
   "source": [
    "from sklearn.preprocessing import scale"
   ]
  },
  {
   "cell_type": "code",
   "execution_count": 453,
   "metadata": {},
   "outputs": [],
   "source": [
    "x_logis = scale(x)"
   ]
  },
  {
   "cell_type": "code",
   "execution_count": 454,
   "metadata": {},
   "outputs": [],
   "source": [
    "x_train_logis,x_test_logis,y_train_logis,y_test_logis = train_test_split(x_logis,y,test_size=0.2, random_state=42)"
   ]
  },
  {
   "cell_type": "code",
   "execution_count": 455,
   "metadata": {},
   "outputs": [],
   "source": [
    "logistic = LogisticRegression(C=0.001)"
   ]
  },
  {
   "cell_type": "code",
   "execution_count": 456,
   "metadata": {},
   "outputs": [],
   "source": [
    "train_fit = logistic.fit(x_train_logis,y_train_logis)"
   ]
  },
  {
   "cell_type": "code",
   "execution_count": 457,
   "metadata": {},
   "outputs": [],
   "source": [
    "y_predict = logistic.predict(x_test_logis)"
   ]
  },
  {
   "cell_type": "code",
   "execution_count": 458,
   "metadata": {},
   "outputs": [
    {
     "data": {
      "text/plain": [
       "LogisticRegression(C=0.001, class_weight=None, dual=False, fit_intercept=True,\n",
       "          intercept_scaling=1, max_iter=100, multi_class='ovr', n_jobs=1,\n",
       "          penalty='l2', random_state=None, solver='liblinear', tol=0.0001,\n",
       "          verbose=0, warm_start=False)"
      ]
     },
     "execution_count": 458,
     "metadata": {},
     "output_type": "execute_result"
    }
   ],
   "source": [
    "train_fit"
   ]
  },
  {
   "cell_type": "code",
   "execution_count": 459,
   "metadata": {},
   "outputs": [],
   "source": [
    "from sklearn.metrics import classification_report,confusion_matrix"
   ]
  },
  {
   "cell_type": "code",
   "execution_count": 460,
   "metadata": {},
   "outputs": [
    {
     "name": "stdout",
     "output_type": "stream",
     "text": [
      "             precision    recall  f1-score   support\n",
      "\n",
      "          0       0.71      0.86      0.78        70\n",
      "          1       0.69      0.48      0.56        46\n",
      "\n",
      "avg / total       0.70      0.71      0.69       116\n",
      "\n"
     ]
    }
   ],
   "source": [
    "print(classification_report(y_test,y_predict))"
   ]
  },
  {
   "cell_type": "code",
   "execution_count": 472,
   "metadata": {},
   "outputs": [
    {
     "data": {
      "text/plain": [
       "array([[60, 10],\n",
       "       [24, 22]])"
      ]
     },
     "execution_count": 472,
     "metadata": {},
     "output_type": "execute_result"
    }
   ],
   "source": [
    "confusion_matrix(y_test_logis,y_predict)"
   ]
  },
  {
   "cell_type": "code",
   "execution_count": null,
   "metadata": {},
   "outputs": [],
   "source": []
  },
  {
   "cell_type": "code",
   "execution_count": 462,
   "metadata": {},
   "outputs": [],
   "source": [
    "names_columns = ['transactionAmount', 'transactionFailed', 'paymentMethodType_encoded',\n",
    "       'paymentMethodProvider_encoded', 'paymentMethodIssuer_encoded',\n",
    "       'customerIPAddress_encoded', 'customerDevice_encoded',\n",
    "       'customerPhone_encode', 'paymentMethodRegistrationFailure']"
   ]
  },
  {
   "cell_type": "code",
   "execution_count": null,
   "metadata": {},
   "outputs": [],
   "source": [
    "\n"
   ]
  },
  {
   "cell_type": "code",
   "execution_count": 463,
   "metadata": {},
   "outputs": [
    {
     "data": {
      "text/plain": [
       "array([ 0.06975702, -0.01157706, -0.020884  ,  0.01665006,  0.00220458,\n",
       "       -0.00099556,  0.00480772,  0.00192744,  0.00978165])"
      ]
     },
     "execution_count": 463,
     "metadata": {},
     "output_type": "execute_result"
    }
   ],
   "source": [
    "logistic.coef_[0]"
   ]
  },
  {
   "cell_type": "code",
   "execution_count": 464,
   "metadata": {},
   "outputs": [
    {
     "data": {
      "text/plain": [
       "Text(0.5, 1.0, 'LR feature importance')"
      ]
     },
     "execution_count": 464,
     "metadata": {},
     "output_type": "execute_result"
    },
    {
     "data": {
      "image/png": "[encoded data removed]",
      "text/plain": [
       "<Figure size 1440x1440 with 1 Axes>"
      ]
     },
     "metadata": {},
     "output_type": "display_data"
    }
   ],
   "source": [
    "importance = logistic.coef_[0]\n",
    "\n",
    "plt.figure(figsize=(20,20))\n",
    "plt.subplots_adjust(hspace=0.6)\n",
    "plt.subplot2grid((3,2),(0,1))\n",
    "importance1 = pd.DataFrame({'importance':importance,'feature':names_columns})\n",
    "importance = importance1.sort_values(by ='importance',ascending=False)\n",
    "sns.barplot(importance['importance'],importance['feature'])\n",
    "#plt.xticks(rotation =90)\n",
    "plt.title('LR feature importance')"
   ]
  },
  {
   "cell_type": "raw",
   "metadata": {},
   "source": [
    "important feature:\n",
    "    Transactionamount,paymentmethodtype"
   ]
  },
  {
   "cell_type": "code",
   "execution_count": 465,
   "metadata": {},
   "outputs": [],
   "source": [
    "\n",
    "from sklearn.tree import DecisionTreeClassifier"
   ]
  },
  {
   "cell_type": "code",
   "execution_count": 466,
   "metadata": {},
   "outputs": [],
   "source": [
    "dc = DecisionTreeClassifier()"
   ]
  },
  {
   "cell_type": "code",
   "execution_count": 467,
   "metadata": {},
   "outputs": [
    {
     "data": {
      "text/plain": [
       "DecisionTreeClassifier(class_weight=None, criterion='gini', max_depth=None,\n",
       "            max_features=None, max_leaf_nodes=None,\n",
       "            min_impurity_decrease=0.0, min_impurity_split=None,\n",
       "            min_samples_leaf=1, min_samples_split=2,\n",
       "            min_weight_fraction_leaf=0.0, presort=False, random_state=None,\n",
       "            splitter='best')"
      ]
     },
     "execution_count": 467,
     "metadata": {},
     "output_type": "execute_result"
    }
   ],
   "source": [
    "dc.fit(x_train,y_train)"
   ]
  },
  {
   "cell_type": "code",
   "execution_count": 470,
   "metadata": {},
   "outputs": [],
   "source": [
    "y_predict_ = dc.predict(x_test)"
   ]
  },
  {
   "cell_type": "code",
   "execution_count": 471,
   "metadata": {},
   "outputs": [
    {
     "data": {
      "text/plain": [
       "array([[63,  7],\n",
       "       [ 3, 43]])"
      ]
     },
     "execution_count": 471,
     "metadata": {},
     "output_type": "execute_result"
    }
   ],
   "source": [
    "confusion_matrix(y_test,y_predict_)"
   ]
  },
  {
   "cell_type": "code",
   "execution_count": 474,
   "metadata": {},
   "outputs": [
    {
     "name": "stdout",
     "output_type": "stream",
     "text": [
      "             precision    recall  f1-score   support\n",
      "\n",
      "          0       0.95      0.90      0.93        70\n",
      "          1       0.86      0.93      0.90        46\n",
      "\n",
      "avg / total       0.92      0.91      0.91       116\n",
      "\n"
     ]
    }
   ],
   "source": [
    "print(classification_report(y_test,y_predict_))"
   ]
  },
  {
   "cell_type": "code",
   "execution_count": 476,
   "metadata": {},
   "outputs": [
    {
     "data": {
      "text/html": [
       "<div>\n",
       "<style scoped>\n",
       "    .dataframe tbody tr th:only-of-type {\n",
       "        vertical-align: middle;\n",
       "    }\n",
       "\n",
       "    .dataframe tbody tr th {\n",
       "        vertical-align: top;\n",
       "    }\n",
       "\n",
       "    .dataframe thead th {\n",
       "        text-align: right;\n",
       "    }\n",
       "</style>\n",
       "<table border=\"1\" class=\"dataframe\">\n",
       "  <thead>\n",
       "    <tr style=\"text-align: right;\">\n",
       "      <th></th>\n",
       "      <th>importance</th>\n",
       "      <th>feature</th>\n",
       "    </tr>\n",
       "  </thead>\n",
       "  <tbody>\n",
       "    <tr>\n",
       "      <th>5</th>\n",
       "      <td>0.268515</td>\n",
       "      <td>customerIPAddress_encoded</td>\n",
       "    </tr>\n",
       "    <tr>\n",
       "      <th>0</th>\n",
       "      <td>0.266720</td>\n",
       "      <td>transactionAmount</td>\n",
       "    </tr>\n",
       "    <tr>\n",
       "      <th>4</th>\n",
       "      <td>0.198030</td>\n",
       "      <td>paymentMethodIssuer_encoded</td>\n",
       "    </tr>\n",
       "    <tr>\n",
       "      <th>6</th>\n",
       "      <td>0.131857</td>\n",
       "      <td>customerDevice_encoded</td>\n",
       "    </tr>\n",
       "    <tr>\n",
       "      <th>7</th>\n",
       "      <td>0.093197</td>\n",
       "      <td>customerPhone_encode</td>\n",
       "    </tr>\n",
       "    <tr>\n",
       "      <th>3</th>\n",
       "      <td>0.041679</td>\n",
       "      <td>paymentMethodProvider_encoded</td>\n",
       "    </tr>\n",
       "    <tr>\n",
       "      <th>1</th>\n",
       "      <td>0.000000</td>\n",
       "      <td>transactionFailed</td>\n",
       "    </tr>\n",
       "    <tr>\n",
       "      <th>2</th>\n",
       "      <td>0.000000</td>\n",
       "      <td>paymentMethodType_encoded</td>\n",
       "    </tr>\n",
       "    <tr>\n",
       "      <th>8</th>\n",
       "      <td>0.000000</td>\n",
       "      <td>paymentMethodRegistrationFailure</td>\n",
       "    </tr>\n",
       "  </tbody>\n",
       "</table>\n",
       "</div>"
      ],
      "text/plain": [
       "   importance                           feature\n",
       "5    0.268515         customerIPAddress_encoded\n",
       "0    0.266720                 transactionAmount\n",
       "4    0.198030       paymentMethodIssuer_encoded\n",
       "6    0.131857            customerDevice_encoded\n",
       "7    0.093197              customerPhone_encode\n",
       "3    0.041679     paymentMethodProvider_encoded\n",
       "1    0.000000                 transactionFailed\n",
       "2    0.000000         paymentMethodType_encoded\n",
       "8    0.000000  paymentMethodRegistrationFailure"
      ]
     },
     "execution_count": 476,
     "metadata": {},
     "output_type": "execute_result"
    }
   ],
   "source": [
    "importance= dc.feature_importances_\n",
    "importance = pd.DataFrame({'importance':importance,'feature':names_columns})\n",
    "importance = importance.sort_values(by ='importance',ascending=False)\n",
    "importance"
   ]
  },
  {
   "cell_type": "code",
   "execution_count": null,
   "metadata": {},
   "outputs": [],
   "source": []
  }
 ],
 "metadata": {
  "kernelspec": {
   "display_name": "Python 3",
   "language": "python",
   "name": "python3"
  },
  "language_info": {
   "codemirror_mode": {
    "name": "ipython",
    "version": 3
   },
   "file_extension": ".py",
   "mimetype": "text/x-python",
   "name": "python",
   "nbconvert_exporter": "python",
   "pygments_lexer": "ipython3",
   "version": "3.6.0"
  }
 },
 "nbformat": 4,
 "nbformat_minor": 2
}
